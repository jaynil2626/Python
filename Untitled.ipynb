{
 "cells": [
  {
   "cell_type": "code",
   "execution_count": 2,
   "id": "ad5b8feb-abdf-44ab-9519-6bd962aacd3f",
   "metadata": {},
   "outputs": [
    {
     "name": "stdout",
     "output_type": "stream",
     "text": [
      "tabduk...tabduk\n"
     ]
    },
    {
     "ename": "TypeError",
     "evalue": "father.talk() missing 1 required positional argument: 'y'",
     "output_type": "error",
     "traceback": [
      "\u001b[0;31m---------------------------------------------------------------------------\u001b[0m",
      "\u001b[0;31mTypeError\u001b[0m                                 Traceback (most recent call last)",
      "Cell \u001b[0;32mIn[2], line 10\u001b[0m\n\u001b[1;32m      8\u001b[0m obj\u001b[38;5;241m=\u001b[39mfather()\n\u001b[1;32m      9\u001b[0m obj\u001b[38;5;241m.\u001b[39mtalk(\u001b[38;5;241m7\u001b[39m,\u001b[38;5;241m3\u001b[39m)\n\u001b[0;32m---> 10\u001b[0m \u001b[43mobj\u001b[49m\u001b[38;5;241;43m.\u001b[39;49m\u001b[43mtalk\u001b[49m\u001b[43m(\u001b[49m\u001b[38;5;241;43m3\u001b[39;49m\u001b[43m)\u001b[49m\n\u001b[1;32m     11\u001b[0m \u001b[38;5;66;03m# python will consider last method in path of cursor\u001b[39;00m\n",
      "\u001b[0;31mTypeError\u001b[0m: father.talk() missing 1 required positional argument: 'y'"
     ]
    }
   ],
   "source": [
    "# OverLoading (Same methods in Same class)\n",
    "# OverRiding (Same method in different class)\n",
    "class father:\n",
    "    def talk(self,x):\n",
    "        print('thapuk...thapuk')\n",
    "    def talk(self,x,y):\n",
    "        print('tabduk...tabduk')\n",
    "obj=father()\n",
    "obj.talk(7,3)\n",
    "obj.talk(3)\n",
    "# python will consider last method in path of cursor"
   ]
  },
  {
   "cell_type": "code",
   "execution_count": null,
   "id": "1af94199-218a-482f-898f-53ccd3cb2e3b",
   "metadata": {},
   "outputs": [],
   "source": [
    "# Operator OverLoading (Most IMP in 3 mark PROGRAMS(100%) and MCQS(maybe) )\n",
    "# most imp is division because of its different name (be carefull in mcq)\n",
    "+ __add__(self,other)\n",
    "- __sub__(self,other)\n",
    "* __mul__(self,other)\n",
    "/ __truediv__(self,other)  --> consider TRUEDIV\n",
    "// __floordiv__(self,other)\n",
    "** __pow__(self,other)\n",
    "% __mod__(self,other)\n",
    "< __lt__(self,other)\n",
    "> __gt__(self,other)\n",
    "<= __le__(self,other)\n",
    ">= __ge__(self,other)\n",
    "== __eq__(self,other)\n",
    "!= __ne__(self,other)"
   ]
  },
  {
   "cell_type": "code",
   "execution_count": 8,
   "id": "7016ea17-124c-4fdb-aa6e-8cbbbcbe9517",
   "metadata": {},
   "outputs": [
    {
     "name": "stdout",
     "output_type": "stream",
     "text": [
      "8\n",
      "15\n"
     ]
    }
   ],
   "source": [
    "# program of operator overloading\n",
    "class demo:\n",
    "    def __init__(self,x):\n",
    "        self.x=x\n",
    "    def __add__(self,other):\n",
    "        return self.x+other.x\n",
    "d1=demo(3)\n",
    "d2=demo(5)\n",
    "print(d1+d2)\n",
    "\n",
    "class demo:\n",
    "    def __init__(self,x):\n",
    "        self.x=x\n",
    "    def __add__(self,other):\n",
    "        return self.x*other.x # if you use * in place of + it will multiply it\n",
    "d1=demo(3) # inside function content doesn't matter you just have to use correct operator while calling\n",
    "d2=demo(5)\n",
    "print(d1+d2)  # + operator is only used to call add method "
   ]
  },
  {
   "cell_type": "code",
   "execution_count": 10,
   "id": "fcb54216-9d98-4fde-9da2-7b680f4f5564",
   "metadata": {},
   "outputs": [
    {
     "name": "stdout",
     "output_type": "stream",
     "text": [
      "4/8\n",
      "2/6\n"
     ]
    }
   ],
   "source": [
    "class fraction:\n",
    "    def __init__(self,x,y):\n",
    "        self.x=x\n",
    "        self.y=y\n",
    "    def __str__(self):\n",
    "        return str(self.x)+\"/\"+str(self.y)\n",
    "    def __add__(self,other):\n",
    "        x=self.x*other.y + self.y*other.x\n",
    "        y=self.y*other.x\n",
    "        return str(x)+\"/\"+str\n",
    "f1=fraction(4,8)\n",
    "f2=fraction(2,6)\n",
    "\n",
    "print(f1)\n",
    "print(f2)"
   ]
  }
 ],
 "metadata": {
  "kernelspec": {
   "display_name": "Python 3 (ipykernel)",
   "language": "python",
   "name": "python3"
  },
  "language_info": {
   "codemirror_mode": {
    "name": "ipython",
    "version": 3
   },
   "file_extension": ".py",
   "mimetype": "text/x-python",
   "name": "python",
   "nbconvert_exporter": "python",
   "pygments_lexer": "ipython3",
   "version": "3.12.1"
  }
 },
 "nbformat": 4,
 "nbformat_minor": 5
}
