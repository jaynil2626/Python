{
 "cells": [
  {
   "cell_type": "code",
   "execution_count": 3,
   "id": "726078b3-7e87-4d0f-a8c1-388c99f6d81a",
   "metadata": {},
   "outputs": [],
   "source": [
    "# to use numpy in vs code \"pip install numpy\" in console\n",
    "import numpy as np"
   ]
  },
  {
   "cell_type": "code",
   "execution_count": 15,
   "id": "e2fbb5b5-cc00-4e94-9987-d95f653fa95c",
   "metadata": {},
   "outputs": [
    {
     "name": "stdout",
     "output_type": "stream",
     "text": [
      "[1 2 3 4]\n",
      "<class 'numpy.ndarray'>\n",
      "\n",
      "[[1 2]\n",
      " [3 4]\n",
      " [5 6]]\n",
      "\n",
      "[[[1 2]\n",
      "  [3 4]]\n",
      "\n",
      " [[5 6]\n",
      "  [7 8]]]\n"
     ]
    }
   ],
   "source": [
    "a=np.array((1,2,3,4))\n",
    "print(a)\n",
    "print(type(a))\n",
    "print()\n",
    "t=np.array([[1,2],[3,4],[5,6]])\n",
    "print(t)\n",
    "print()\n",
    "p=np.array([[[1,2],[3,4]],[[5,6],[7,8]]])\n",
    "print(p)\n"
   ]
  },
  {
   "cell_type": "code",
   "execution_count": 20,
   "id": "06834c32-e642-4d57-825b-80880d22f8b5",
   "metadata": {},
   "outputs": [
    {
     "name": "stdout",
     "output_type": "stream",
     "text": [
      "[ 1  2  3  4  5  6  7  8  9 10]\n",
      "[11 10  9  8  7  6  5  4  3  2  1]\n"
     ]
    }
   ],
   "source": [
    "a=np.arange(1,11) #Range\n",
    "print(a)\n",
    "b=np.arange(11,0,-1) # Stepsize\n",
    "print(b)"
   ]
  },
  {
   "cell_type": "code",
   "execution_count": 26,
   "id": "00ef3344-14e3-45e8-919e-67b7f07286c3",
   "metadata": {},
   "outputs": [
    {
     "name": "stdout",
     "output_type": "stream",
     "text": [
      "[[ 1  2  3  4]\n",
      " [ 5  6  7  8]\n",
      " [ 9 10 11 12]]\n",
      "\n",
      "[[[ 1  2]\n",
      "  [ 3  4]]\n",
      "\n",
      " [[ 5  6]\n",
      "  [ 7  8]]\n",
      "\n",
      " [[ 9 10]\n",
      "  [11 12]]]\n"
     ]
    }
   ],
   "source": [
    "# program = 2D and mcq = 3D array\n",
    "x=np.arange(1,13).reshape(3,4) # a matrix of 3 rows and 4 columns\n",
    "print(x) # 3x4 must equals to 12 (the range) otherwise Error\n",
    "print()\n",
    "x=np.arange(1,13).reshape(3,2,2) #3D array\n",
    "print(x)"
   ]
  },
  {
   "cell_type": "code",
   "execution_count": 29,
   "id": "f4daa733-20d1-4882-be24-7d91a59aecc0",
   "metadata": {},
   "outputs": [
    {
     "name": "stdout",
     "output_type": "stream",
     "text": [
      "[[1. 1. 1.]\n",
      " [1. 1. 1.]\n",
      " [1. 1. 1.]]\n",
      "[[0. 0. 0. 0.]\n",
      " [0. 0. 0. 0.]\n",
      " [0. 0. 0. 0.]]\n"
     ]
    }
   ],
   "source": [
    "a=np.ones((3,3)) # 3x3 matrix of all element=1\n",
    "b=np.zeros((3,4)) # 3x4 matrix of all element=0\n",
    "print(a)\n",
    "print(b)"
   ]
  },
  {
   "cell_type": "code",
   "execution_count": 31,
   "id": "9e0be998-08a4-4c67-bb67-5ae37b207062",
   "metadata": {},
   "outputs": [
    {
     "name": "stdout",
     "output_type": "stream",
     "text": [
      "[[1. 0. 0.]\n",
      " [0. 1. 0.]\n",
      " [0. 0. 1.]]\n"
     ]
    }
   ],
   "source": [
    "c=np.identity(3) # 3x3 identity matrix\n",
    "print(c)"
   ]
  },
  {
   "cell_type": "code",
   "execution_count": 56,
   "id": "8978e1a4-d58b-4e1f-ada6-ba248198c92d",
   "metadata": {},
   "outputs": [
    {
     "name": "stdout",
     "output_type": "stream",
     "text": [
      "[[0.55657288 0.74394076 0.79490881]\n",
      " [0.77744965 0.87719888 0.31564498]\n",
      " [0.92814803 0.07424668 0.08782893]]\n",
      "[[793 441 154]\n",
      " [815 319 661]\n",
      " [118 898 662]]\n"
     ]
    }
   ],
   "source": [
    "c=np.random.random((3,3))\n",
    "print(c)\n",
    "a=np.random.randint(100,1000,size=(3,3)) # random digits with range 100 to 1000\n",
    "print(a)"
   ]
  },
  {
   "cell_type": "code",
   "execution_count": 57,
   "id": "c36a225e-39d4-46f3-8bdb-f96a24fe3747",
   "metadata": {},
   "outputs": [
    {
     "name": "stdout",
     "output_type": "stream",
     "text": [
      "[[56. 74. 79.]\n",
      " [78. 88. 32.]\n",
      " [93.  7.  9.]]\n"
     ]
    }
   ],
   "source": [
    "a=np.round(c*100) # above c matrix multiplied by 100\n",
    "print(a)"
   ]
  },
  {
   "cell_type": "code",
   "execution_count": 7,
   "id": "e3b31a94-8048-46ba-a35f-aeb3db1394b0",
   "metadata": {},
   "outputs": [
    {
     "name": "stdout",
     "output_type": "stream",
     "text": [
      "1\n",
      "12\n",
      "(12,)\n",
      "(3, 4)\n",
      "8\n",
      "int64\n"
     ]
    }
   ],
   "source": [
    "a=np.arange(1,13)\n",
    "b=np.arange(1,13).reshape(3,4)\n",
    "c=np.arange(1,13).reshape(2,3,2)\n",
    "\n",
    "print(a.ndim) #dimension\n",
    "print(a.size)\n",
    "print(a.shape)  # this will 100% come in mcq for dimension 1D\n",
    "print(b.shape) \n",
    "print(a.itemsize)\n",
    "print(a.dtype)"
   ]
  },
  {
   "cell_type": "code",
   "execution_count": 23,
   "id": "6a20052d-9c37-4542-bc7e-2ede7024884b",
   "metadata": {},
   "outputs": [
    {
     "name": "stdout",
     "output_type": "stream",
     "text": [
      "1\n",
      "5\n",
      "9\n",
      "[5 6 7 8 9]\n",
      "[12 11 10  9  8  7  6  5  4  3  2  1]\n",
      "[ 2  8 10]\n",
      "[ 2  4  6  8 10 12]\n",
      "[6]\n"
     ]
    }
   ],
   "source": [
    "# slicing in 1D\n",
    "a=np.arange(1,13)\n",
    "print(a[0])\n",
    "print(a[4])\n",
    "print(a[8])\n",
    "print(a[4:9])\n",
    "print(a[ : :-1])\n",
    "print(a[[1,7,9]]) # something new\n",
    "print(a[a%2==0]) # another new thing\n",
    "\n",
    "b=np.arange(1,11)\n",
    "print(b[(b%3==0) & (b%6==0)])"
   ]
  },
  {
   "cell_type": "code",
   "execution_count": 55,
   "id": "ea05e9e1-2ab9-488b-a7dc-0a1862169f44",
   "metadata": {},
   "outputs": [
    {
     "name": "stdout",
     "output_type": "stream",
     "text": [
      "[[ 1  2  3  4]\n",
      " [ 5  6  7  8]\n",
      " [ 9 10 11 12]]\n",
      "7\n",
      "7\n",
      "10\n",
      "[1 5 9]\n",
      "[[12 11 10  9]\n",
      " [ 8  7  6  5]\n",
      " [ 4  3  2  1]]\n",
      "[[ 1  4]\n",
      " [ 9 12]]\n",
      "[[ 1  4]\n",
      " [ 9 12]]\n"
     ]
    }
   ],
   "source": [
    "# slicing in 2D\n",
    "a=np.arange(1,13).reshape(3,4)\n",
    "print(a)\n",
    "print(a[1][2])\n",
    "print(a[1,2]) # above OR this (two methods)\n",
    "print(a[-1,-3])\n",
    "print(a[:,0]) # 1st column\n",
    "print(a[::-1,::-1]) # reverse matrix\n",
    "print(a[::2,[0,3]])\n",
    "print(a[::2,::3])"
   ]
  },
  {
   "cell_type": "code",
   "execution_count": 69,
   "id": "12e9945b-2d31-4ca3-9d55-acf0c35d17fb",
   "metadata": {},
   "outputs": [
    {
     "name": "stdout",
     "output_type": "stream",
     "text": [
      "[[[ 1  2  3]\n",
      "  [ 4  5  6]]\n",
      "\n",
      " [[ 7  8  9]\n",
      "  [10 11 12]]]\n",
      "8\n",
      "[[[12 11 10]\n",
      "  [ 9  8  7]]\n",
      "\n",
      " [[ 6  5  4]\n",
      "  [ 3  2  1]]]\n",
      "[[[1 3]]\n",
      "\n",
      " [[7 9]]]\n",
      "[[1 3]\n",
      " [7 9]]\n"
     ]
    }
   ],
   "source": [
    "# slicing in 3D\n",
    "a=np.arange(1,13).reshape(2,2,3)\n",
    "print(a)\n",
    "print(a[1,0,1])\n",
    "print(a[::-1,::-1,::-1])\n",
    "print(a[::,::2,::2])\n",
    "print(a[::,0,::2])"
   ]
  },
  {
   "cell_type": "code",
   "execution_count": 74,
   "id": "feb2561c-843f-40e4-8795-1bc315e488f8",
   "metadata": {},
   "outputs": [
    {
     "ename": "ValueError",
     "evalue": "cannot reshape array of size 12 into shape (2,2,4)",
     "output_type": "error",
     "traceback": [
      "\u001b[0;31m---------------------------------------------------------------------------\u001b[0m",
      "\u001b[0;31mValueError\u001b[0m                                Traceback (most recent call last)",
      "Cell \u001b[0;32mIn[74], line 3\u001b[0m\n\u001b[1;32m      1\u001b[0m \u001b[38;5;66;03m# scaler operation\u001b[39;00m\n\u001b[0;32m----> 3\u001b[0m a\u001b[38;5;241m=\u001b[39m\u001b[43mnp\u001b[49m\u001b[38;5;241;43m.\u001b[39;49m\u001b[43marange\u001b[49m\u001b[43m(\u001b[49m\u001b[38;5;241;43m1\u001b[39;49m\u001b[43m,\u001b[49m\u001b[38;5;241;43m13\u001b[39;49m\u001b[43m)\u001b[49m\u001b[38;5;241;43m.\u001b[39;49m\u001b[43mreshape\u001b[49m\u001b[43m(\u001b[49m\u001b[38;5;241;43m2\u001b[39;49m\u001b[43m,\u001b[49m\u001b[38;5;241;43m2\u001b[39;49m\u001b[43m,\u001b[49m\u001b[38;5;241;43m4\u001b[39;49m\u001b[43m)\u001b[49m\n\u001b[1;32m      4\u001b[0m \u001b[38;5;28mprint\u001b[39m(a)\n\u001b[1;32m      5\u001b[0m \u001b[38;5;28mprint\u001b[39m(a\u001b[38;5;241m+\u001b[39m\u001b[38;5;241m5\u001b[39m)\n",
      "\u001b[0;31mValueError\u001b[0m: cannot reshape array of size 12 into shape (2,2,4)"
     ]
    }
   ],
   "source": [
    "# scaler operation\n",
    "\n",
    "a=np.arange(1,13).reshape(3,4)\n",
    "print(a)\n",
    "print(a+5)\n",
    "print(a-5)\n",
    "print(a*5)\n",
    "print(a/5)\n",
    "print(a%5)\n",
    "print(a**5)"
   ]
  },
  {
   "cell_type": "code",
   "execution_count": 73,
   "id": "700f14c7-5172-40c9-81c4-44072262b3c3",
   "metadata": {},
   "outputs": [
    {
     "name": "stdout",
     "output_type": "stream",
     "text": [
      "[[13 14 15 16]\n",
      " [17 18 19 20]\n",
      " [21 22 23 24]]\n",
      "[[14 16 18 20]\n",
      " [22 24 26 28]\n",
      " [30 32 34 36]]\n",
      "[[-12 -12 -12 -12]\n",
      " [-12 -12 -12 -12]\n",
      " [-12 -12 -12 -12]]\n",
      "[[ 13  28  45  64]\n",
      " [ 85 108 133 160]\n",
      " [189 220 253 288]]\n"
     ]
    },
    {
     "ename": "ValueError",
     "evalue": "shapes (3,4) and (3,4) not aligned: 4 (dim 1) != 3 (dim 0)",
     "output_type": "error",
     "traceback": [
      "\u001b[0;31m---------------------------------------------------------------------------\u001b[0m",
      "\u001b[0;31mValueError\u001b[0m                                Traceback (most recent call last)",
      "Cell \u001b[0;32mIn[73], line 6\u001b[0m\n\u001b[1;32m      4\u001b[0m \u001b[38;5;28mprint\u001b[39m(a\u001b[38;5;241m-\u001b[39mb)\n\u001b[1;32m      5\u001b[0m \u001b[38;5;28mprint\u001b[39m(a\u001b[38;5;241m*\u001b[39mb) \u001b[38;5;66;03m# its wrong so we will use different method\u001b[39;00m\n\u001b[0;32m----> 6\u001b[0m \u001b[38;5;28mprint\u001b[39m(\u001b[43mnp\u001b[49m\u001b[38;5;241;43m.\u001b[39;49m\u001b[43mdot\u001b[49m\u001b[43m(\u001b[49m\u001b[43ma\u001b[49m\u001b[43m,\u001b[49m\u001b[43mb\u001b[49m\u001b[43m)\u001b[49m)\n\u001b[1;32m      7\u001b[0m \u001b[38;5;28mprint\u001b[39m(a\u001b[38;5;241m/\u001b[39mb)\n\u001b[1;32m      8\u001b[0m \u001b[38;5;28mprint\u001b[39m(a\u001b[38;5;241m/\u001b[39m\u001b[38;5;241m/\u001b[39mb)\n",
      "\u001b[0;31mValueError\u001b[0m: shapes (3,4) and (3,4) not aligned: 4 (dim 1) != 3 (dim 0)"
     ]
    }
   ],
   "source": [
    "b=np.arange(13,25).reshape(3,4)\n",
    "print(b)\n",
    "print(a+b)\n",
    "print(a-b)\n",
    "print(a*b) # its wrong so we will use different method\n",
    "print(np.dot(a,b))\n",
    "print(a/b)\n",
    "print(a//b)\n",
    "print(a**b)\n",
    "print(a%b)\n"
   ]
  }
 ],
 "metadata": {
  "kernelspec": {
   "display_name": "Python 3 (ipykernel)",
   "language": "python",
   "name": "python3"
  },
  "language_info": {
   "codemirror_mode": {
    "name": "ipython",
    "version": 3
   },
   "file_extension": ".py",
   "mimetype": "text/x-python",
   "name": "python",
   "nbconvert_exporter": "python",
   "pygments_lexer": "ipython3",
   "version": "3.12.1"
  }
 },
 "nbformat": 4,
 "nbformat_minor": 5
}
