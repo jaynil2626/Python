{
 "cells": [
  {
   "cell_type": "code",
   "execution_count": 3,
   "id": "726078b3-7e87-4d0f-a8c1-388c99f6d81a",
   "metadata": {},
   "outputs": [],
   "source": [
    "# to use numpy in vs code \"pip install numpy\" in console\n",
    "import numpy as np"
   ]
  },
  {
   "cell_type": "code",
   "execution_count": 15,
   "id": "e2fbb5b5-cc00-4e94-9987-d95f653fa95c",
   "metadata": {},
   "outputs": [
    {
     "name": "stdout",
     "output_type": "stream",
     "text": [
      "[1 2 3 4]\n",
      "<class 'numpy.ndarray'>\n",
      "\n",
      "[[1 2]\n",
      " [3 4]\n",
      " [5 6]]\n",
      "\n",
      "[[[1 2]\n",
      "  [3 4]]\n",
      "\n",
      " [[5 6]\n",
      "  [7 8]]]\n"
     ]
    }
   ],
   "source": [
    "a=np.array((1,2,3,4))\n",
    "print(a)\n",
    "print(type(a))\n",
    "print()\n",
    "t=np.array([[1,2],[3,4],[5,6]])\n",
    "print(t)\n",
    "print()\n",
    "p=np.array([[[1,2],[3,4]],[[5,6],[7,8]]])\n",
    "print(p)\n"
   ]
  },
  {
   "cell_type": "code",
   "execution_count": 20,
   "id": "06834c32-e642-4d57-825b-80880d22f8b5",
   "metadata": {},
   "outputs": [
    {
     "name": "stdout",
     "output_type": "stream",
     "text": [
      "[ 1  2  3  4  5  6  7  8  9 10]\n",
      "[11 10  9  8  7  6  5  4  3  2  1]\n"
     ]
    }
   ],
   "source": [
    "a=np.arange(1,11) #Range\n",
    "print(a)\n",
    "b=np.arange(11,0,-1) # Stepsize\n",
    "print(b)"
   ]
  },
  {
   "cell_type": "code",
   "execution_count": 26,
   "id": "00ef3344-14e3-45e8-919e-67b7f07286c3",
   "metadata": {},
   "outputs": [
    {
     "name": "stdout",
     "output_type": "stream",
     "text": [
      "[[ 1  2  3  4]\n",
      " [ 5  6  7  8]\n",
      " [ 9 10 11 12]]\n",
      "\n",
      "[[[ 1  2]\n",
      "  [ 3  4]]\n",
      "\n",
      " [[ 5  6]\n",
      "  [ 7  8]]\n",
      "\n",
      " [[ 9 10]\n",
      "  [11 12]]]\n"
     ]
    }
   ],
   "source": [
    "# program = 2D and mcq = 3D array\n",
    "x=np.arange(1,13).reshape(3,4) # a matrix of 3 rows and 4 columns\n",
    "print(x) # 3x4 must equals to 12 (the range) otherwise Error\n",
    "print()\n",
    "x=np.arange(1,13).reshape(3,2,2) #3D array\n",
    "print(x)"
   ]
  },
  {
   "cell_type": "code",
   "execution_count": 29,
   "id": "f4daa733-20d1-4882-be24-7d91a59aecc0",
   "metadata": {},
   "outputs": [
    {
     "name": "stdout",
     "output_type": "stream",
     "text": [
      "[[1. 1. 1.]\n",
      " [1. 1. 1.]\n",
      " [1. 1. 1.]]\n",
      "[[0. 0. 0. 0.]\n",
      " [0. 0. 0. 0.]\n",
      " [0. 0. 0. 0.]]\n"
     ]
    }
   ],
   "source": [
    "a=np.ones((3,3)) # 3x3 matrix of all element=1\n",
    "b=np.zeros((3,4)) # 3x4 matrix of all element=0\n",
    "print(a)\n",
    "print(b)"
   ]
  },
  {
   "cell_type": "code",
   "execution_count": 31,
   "id": "9e0be998-08a4-4c67-bb67-5ae37b207062",
   "metadata": {},
   "outputs": [
    {
     "name": "stdout",
     "output_type": "stream",
     "text": [
      "[[1. 0. 0.]\n",
      " [0. 1. 0.]\n",
      " [0. 0. 1.]]\n"
     ]
    }
   ],
   "source": [
    "c=np.identity(3) # 3x3 identity matrix\n",
    "print(c)"
   ]
  },
  {
   "cell_type": "code",
   "execution_count": 56,
   "id": "8978e1a4-d58b-4e1f-ada6-ba248198c92d",
   "metadata": {},
   "outputs": [
    {
     "name": "stdout",
     "output_type": "stream",
     "text": [
      "[[0.55657288 0.74394076 0.79490881]\n",
      " [0.77744965 0.87719888 0.31564498]\n",
      " [0.92814803 0.07424668 0.08782893]]\n",
      "[[793 441 154]\n",
      " [815 319 661]\n",
      " [118 898 662]]\n"
     ]
    }
   ],
   "source": [
    "c=np.random.random((3,3))\n",
    "print(c)\n",
    "a=np.random.randint(100,1000,size=(3,3)) # random digits with range 100 to 1000\n",
    "print(a)"
   ]
  },
  {
   "cell_type": "code",
   "execution_count": 57,
   "id": "c36a225e-39d4-46f3-8bdb-f96a24fe3747",
   "metadata": {},
   "outputs": [
    {
     "name": "stdout",
     "output_type": "stream",
     "text": [
      "[[56. 74. 79.]\n",
      " [78. 88. 32.]\n",
      " [93.  7.  9.]]\n"
     ]
    }
   ],
   "source": [
    "a=np.round(c*100) # above c matrix multiplied by 100\n",
    "print(a)"
   ]
  },
  {
   "cell_type": "code",
   "execution_count": 7,
   "id": "e3b31a94-8048-46ba-a35f-aeb3db1394b0",
   "metadata": {},
   "outputs": [
    {
     "name": "stdout",
     "output_type": "stream",
     "text": [
      "1\n",
      "12\n",
      "(12,)\n",
      "(3, 4)\n",
      "8\n",
      "int64\n"
     ]
    }
   ],
   "source": [
    "a=np.arange(1,13)\n",
    "b=np.arange(1,13).reshape(3,4)\n",
    "c=np.arange(1,13).reshape(2,3,2)\n",
    "\n",
    "print(a.ndim) #dimension\n",
    "print(a.size)\n",
    "print(a.shape)  # this will 100% come in mcq for dimension 1D\n",
    "print(b.shape) \n",
    "print(a.itemsize)\n",
    "print(a.dtype)"
   ]
  },
  {
   "cell_type": "code",
   "execution_count": 23,
   "id": "6a20052d-9c37-4542-bc7e-2ede7024884b",
   "metadata": {},
   "outputs": [
    {
     "name": "stdout",
     "output_type": "stream",
     "text": [
      "1\n",
      "5\n",
      "9\n",
      "[5 6 7 8 9]\n",
      "[12 11 10  9  8  7  6  5  4  3  2  1]\n",
      "[ 2  8 10]\n",
      "[ 2  4  6  8 10 12]\n",
      "[6]\n"
     ]
    }
   ],
   "source": [
    "# slicing in 1D\n",
    "a=np.arange(1,13)\n",
    "print(a[0])\n",
    "print(a[4])\n",
    "print(a[8])\n",
    "print(a[4:9])\n",
    "print(a[ : :-1])\n",
    "print(a[[1,7,9]]) # something new\n",
    "print(a[a%2==0]) # another new thing\n",
    "\n",
    "b=np.arange(1,11)\n",
    "print(b[(b%3==0) & (b%6==0)])"
   ]
  },
  {
   "cell_type": "code",
   "execution_count": 55,
   "id": "ea05e9e1-2ab9-488b-a7dc-0a1862169f44",
   "metadata": {},
   "outputs": [
    {
     "name": "stdout",
     "output_type": "stream",
     "text": [
      "[[ 1  2  3  4]\n",
      " [ 5  6  7  8]\n",
      " [ 9 10 11 12]]\n",
      "7\n",
      "7\n",
      "10\n",
      "[1 5 9]\n",
      "[[12 11 10  9]\n",
      " [ 8  7  6  5]\n",
      " [ 4  3  2  1]]\n",
      "[[ 1  4]\n",
      " [ 9 12]]\n",
      "[[ 1  4]\n",
      " [ 9 12]]\n"
     ]
    }
   ],
   "source": [
    "# slicing in 2D\n",
    "a=np.arange(1,13).reshape(3,4)\n",
    "print(a)\n",
    "print(a[1][2])\n",
    "print(a[1,2]) # above OR this (two methods)\n",
    "print(a[-1,-3])\n",
    "print(a[:,0]) # 1st column\n",
    "print(a[::-1,::-1]) # reverse matrix\n",
    "print(a[::2,[0,3]])\n",
    "print(a[::2,::3])"
   ]
  },
  {
   "cell_type": "code",
   "execution_count": 69,
   "id": "12e9945b-2d31-4ca3-9d55-acf0c35d17fb",
   "metadata": {},
   "outputs": [
    {
     "name": "stdout",
     "output_type": "stream",
     "text": [
      "[[[ 1  2  3]\n",
      "  [ 4  5  6]]\n",
      "\n",
      " [[ 7  8  9]\n",
      "  [10 11 12]]]\n",
      "8\n",
      "[[[12 11 10]\n",
      "  [ 9  8  7]]\n",
      "\n",
      " [[ 6  5  4]\n",
      "  [ 3  2  1]]]\n",
      "[[[1 3]]\n",
      "\n",
      " [[7 9]]]\n",
      "[[1 3]\n",
      " [7 9]]\n"
     ]
    }
   ],
   "source": [
    "# slicing in 3D\n",
    "a=np.arange(1,13).reshape(2,2,3)\n",
    "print(a)\n",
    "print(a[1,0,1])\n",
    "print(a[::-1,::-1,::-1])\n",
    "print(a[::,::2,::2])\n",
    "print(a[::,0,::2])"
   ]
  },
  {
   "cell_type": "code",
   "execution_count": 78,
   "id": "feb2561c-843f-40e4-8795-1bc315e488f8",
   "metadata": {},
   "outputs": [
    {
     "name": "stdout",
     "output_type": "stream",
     "text": [
      "[[ 1  2  3  4]\n",
      " [ 5  6  7  8]\n",
      " [ 9 10 11 12]]\n",
      "[[ 6  7  8  9]\n",
      " [10 11 12 13]\n",
      " [14 15 16 17]]\n",
      "[[-4 -3 -2 -1]\n",
      " [ 0  1  2  3]\n",
      " [ 4  5  6  7]]\n",
      "[[ 5 10 15 20]\n",
      " [25 30 35 40]\n",
      " [45 50 55 60]]\n",
      "[[0.2 0.4 0.6 0.8]\n",
      " [1.  1.2 1.4 1.6]\n",
      " [1.8 2.  2.2 2.4]]\n",
      "[[1 2 3 4]\n",
      " [0 1 2 3]\n",
      " [4 0 1 2]]\n",
      "[[     1     32    243   1024]\n",
      " [  3125   7776  16807  32768]\n",
      " [ 59049 100000 161051 248832]]\n"
     ]
    }
   ],
   "source": [
    "# scaler operation\n",
    "\n",
    "a=np.arange(1,13).reshape(3,4)\n",
    "print(a)\n",
    "print(a+5)\n",
    "print(a-5)\n",
    "print(a*5)\n",
    "print(a/5)\n",
    "print(a%5)\n",
    "print(a**5)"
   ]
  },
  {
   "cell_type": "code",
   "execution_count": 80,
   "id": "700f14c7-5172-40c9-81c4-44072262b3c3",
   "metadata": {},
   "outputs": [
    {
     "name": "stdout",
     "output_type": "stream",
     "text": [
      "[[13 14 15 16]\n",
      " [17 18 19 20]\n",
      " [21 22 23 24]]\n",
      "[[14 16 18 20]\n",
      " [22 24 26 28]\n",
      " [30 32 34 36]]\n",
      "[[-12 -12 -12 -12]\n",
      " [-12 -12 -12 -12]\n",
      " [-12 -12 -12 -12]]\n",
      "[[ 13  28  45  64]\n",
      " [ 85 108 133 160]\n",
      " [189 220 253 288]]\n",
      "[[0.07692308 0.14285714 0.2        0.25      ]\n",
      " [0.29411765 0.33333333 0.36842105 0.4       ]\n",
      " [0.42857143 0.45454545 0.47826087 0.5       ]]\n",
      "[[0 0 0 0]\n",
      " [0 0 0 0]\n",
      " [0 0 0 0]]\n",
      "[[                   1                16384             14348907\n",
      "            4294967296]\n",
      " [        762939453125      101559956668416    11398895185373143\n",
      "   1152921504606846976]\n",
      " [-1261475310744950487  1864712049423024128  6839173302027254275\n",
      "  -5124814900970913792]]\n",
      "[[ 1  2  3  4]\n",
      " [ 5  6  7  8]\n",
      " [ 9 10 11 12]]\n"
     ]
    }
   ],
   "source": [
    "b=np.arange(13,25).reshape(3,4)\n",
    "print(b)\n",
    "print(a+b)\n",
    "print(a-b)\n",
    "print(a*b) # its wrong so we will use different method\n",
    "# print(np.dot(a,b))\n",
    "print(a/b)\n",
    "print(a//b)\n",
    "print(a**b)\n",
    "print(a%b)\n"
   ]
  }
 ],
 "metadata": {
  "kernelspec": {
   "display_name": "Python 3 (ipykernel)",
   "language": "python",
   "name": "python3"
  },
  "language_info": {
   "codemirror_mode": {
    "name": "ipython",
    "version": 3
   },
   "file_extension": ".py",
   "mimetype": "text/x-python",
   "name": "python",
   "nbconvert_exporter": "python",
   "pygments_lexer": "ipython3",
   "version": "3.12.1"
  }
 },
 "nbformat": 4,
 "nbformat_minor": 5
}
