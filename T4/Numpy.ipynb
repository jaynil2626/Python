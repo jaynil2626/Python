{
 "cells": [
  {
   "cell_type": "code",
   "execution_count": 3,
   "id": "726078b3-7e87-4d0f-a8c1-388c99f6d81a",
   "metadata": {},
   "outputs": [],
   "source": [
    "# to use numpy in vs code \"pip install numpy\" in console\n",
    "import numpy as np"
   ]
  },
  {
   "cell_type": "code",
   "execution_count": 15,
   "id": "e2fbb5b5-cc00-4e94-9987-d95f653fa95c",
   "metadata": {},
   "outputs": [
    {
     "name": "stdout",
     "output_type": "stream",
     "text": [
      "[1 2 3 4]\n",
      "<class 'numpy.ndarray'>\n",
      "\n",
      "[[1 2]\n",
      " [3 4]\n",
      " [5 6]]\n",
      "\n",
      "[[[1 2]\n",
      "  [3 4]]\n",
      "\n",
      " [[5 6]\n",
      "  [7 8]]]\n"
     ]
    }
   ],
   "source": [
    "a=np.array((1,2,3,4))\n",
    "print(a)\n",
    "print(type(a))\n",
    "print()\n",
    "t=np.array([[1,2],[3,4],[5,6]])\n",
    "print(t)\n",
    "print()\n",
    "p=np.array([[[1,2],[3,4]],[[5,6],[7,8]]])\n",
    "print(p)\n"
   ]
  },
  {
   "cell_type": "code",
   "execution_count": 20,
   "id": "06834c32-e642-4d57-825b-80880d22f8b5",
   "metadata": {},
   "outputs": [
    {
     "name": "stdout",
     "output_type": "stream",
     "text": [
      "[ 1  2  3  4  5  6  7  8  9 10]\n",
      "[11 10  9  8  7  6  5  4  3  2  1]\n"
     ]
    }
   ],
   "source": [
    "a=np.arange(1,11) #Range\n",
    "print(a)\n",
    "b=np.arange(11,0,-1) # Stepsize\n",
    "print(b)"
   ]
  },
  {
   "cell_type": "code",
   "execution_count": 26,
   "id": "00ef3344-14e3-45e8-919e-67b7f07286c3",
   "metadata": {},
   "outputs": [
    {
     "name": "stdout",
     "output_type": "stream",
     "text": [
      "[[ 1  2  3  4]\n",
      " [ 5  6  7  8]\n",
      " [ 9 10 11 12]]\n",
      "\n",
      "[[[ 1  2]\n",
      "  [ 3  4]]\n",
      "\n",
      " [[ 5  6]\n",
      "  [ 7  8]]\n",
      "\n",
      " [[ 9 10]\n",
      "  [11 12]]]\n"
     ]
    }
   ],
   "source": [
    "# program = 2D and mcq = 3D array\n",
    "x=np.arange(1,13).reshape(3,4) # a matrix of 3 rows and 4 columns\n",
    "print(x) # 3x4 must equals to 12 (the range) otherwise Error\n",
    "print()\n",
    "x=np.arange(1,13).reshape(3,2,2) #3D array\n",
    "print(x)"
   ]
  },
  {
   "cell_type": "code",
   "execution_count": 29,
   "id": "f4daa733-20d1-4882-be24-7d91a59aecc0",
   "metadata": {},
   "outputs": [
    {
     "name": "stdout",
     "output_type": "stream",
     "text": [
      "[[1. 1. 1.]\n",
      " [1. 1. 1.]\n",
      " [1. 1. 1.]]\n",
      "[[0. 0. 0. 0.]\n",
      " [0. 0. 0. 0.]\n",
      " [0. 0. 0. 0.]]\n"
     ]
    }
   ],
   "source": [
    "a=np.ones((3,3)) # 3x3 matrix of all element=1\n",
    "b=np.zeros((3,4)) # 3x4 matrix of all element=0\n",
    "print(a)\n",
    "print(b)"
   ]
  },
  {
   "cell_type": "code",
   "execution_count": 31,
   "id": "9e0be998-08a4-4c67-bb67-5ae37b207062",
   "metadata": {},
   "outputs": [
    {
     "name": "stdout",
     "output_type": "stream",
     "text": [
      "[[1. 0. 0.]\n",
      " [0. 1. 0.]\n",
      " [0. 0. 1.]]\n"
     ]
    }
   ],
   "source": [
    "c=np.identity(3) # 3x3 identity matrix\n",
    "print(c)"
   ]
  },
  {
   "cell_type": "code",
   "execution_count": 56,
   "id": "8978e1a4-d58b-4e1f-ada6-ba248198c92d",
   "metadata": {},
   "outputs": [
    {
     "name": "stdout",
     "output_type": "stream",
     "text": [
      "[[0.55657288 0.74394076 0.79490881]\n",
      " [0.77744965 0.87719888 0.31564498]\n",
      " [0.92814803 0.07424668 0.08782893]]\n",
      "[[793 441 154]\n",
      " [815 319 661]\n",
      " [118 898 662]]\n"
     ]
    }
   ],
   "source": [
    "c=np.random.random((3,3))\n",
    "print(c)\n",
    "a=np.random.randint(100,1000,size=(3,3)) # random digits with range 100 to 1000\n",
    "print(a)"
   ]
  },
  {
   "cell_type": "code",
   "execution_count": 57,
   "id": "c36a225e-39d4-46f3-8bdb-f96a24fe3747",
   "metadata": {},
   "outputs": [
    {
     "name": "stdout",
     "output_type": "stream",
     "text": [
      "[[56. 74. 79.]\n",
      " [78. 88. 32.]\n",
      " [93.  7.  9.]]\n"
     ]
    }
   ],
   "source": [
    "a=np.round(c*100) # above c matrix multiplied by 100\n",
    "print(a)"
   ]
  },
  {
   "cell_type": "code",
   "execution_count": null,
   "id": "e3b31a94-8048-46ba-a35f-aeb3db1394b0",
   "metadata": {},
   "outputs": [],
   "source": [
    "a=np.arange(1,13)\n",
    "b=np.arange(1,13).reshape(3,4)\n",
    "c=np.arange(1,13).reshape(2,3,2)\n",
    "\n",
    "print(a.ndim) #dimension\n",
    "print(a.size)\n",
    "print(a.shape) # this will 100% come in mcq for dimension 1D\n",
    "print(a.itemsize)\n",
    "print(a.dtype)"
   ]
  }
 ],
 "metadata": {
  "kernelspec": {
   "display_name": "Python 3 (ipykernel)",
   "language": "python",
   "name": "python3"
  },
  "language_info": {
   "codemirror_mode": {
    "name": "ipython",
    "version": 3
   },
   "file_extension": ".py",
   "mimetype": "text/x-python",
   "name": "python",
   "nbconvert_exporter": "python",
   "pygments_lexer": "ipython3",
   "version": "3.12.1"
  }
 },
 "nbformat": 4,
 "nbformat_minor": 5
}
