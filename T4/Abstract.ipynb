{
 "cells": [
  {
   "cell_type": "markdown",
   "id": "10a821a9-1aed-4757-9c1f-907e518d8c81",
   "metadata": {},
   "source": [
    "Abstract class rule:-\n",
    "1) Inherit with ABC\n",
    "2) Atleast 1 abstract method\n",
    "3) child class --> same abstract method\n",
    "4) abstract class's object can't be created\n",
    "5) "
   ]
  },
  {
   "cell_type": "code",
   "execution_count": 4,
   "id": "a2a9ee90-8db6-451b-9edd-229a74cef967",
   "metadata": {},
   "outputs": [
    {
     "name": "stdout",
     "output_type": "stream",
     "text": [
      "child safe\n",
      "database\n"
     ]
    }
   ],
   "source": [
    "# in inherited class the abstract method is required otherwise object can't be created,, or it will give typeError\n",
    "from abc import ABC, abstractmethod\n",
    "class father(ABC):\n",
    "    def database(self):\n",
    "        print('database')\n",
    "    @ abstractmethod\n",
    "    def security(self):\n",
    "        pass\n",
    "class child(father):\n",
    "    def display(self):\n",
    "        self.database()\n",
    "    def security(self):\n",
    "        print('child safe')\n",
    "c=child()\n",
    "c.security()\n",
    "c.display()"
   ]
  }
 ],
 "metadata": {
  "kernelspec": {
   "display_name": "Python 3 (ipykernel)",
   "language": "python",
   "name": "python3"
  },
  "language_info": {
   "codemirror_mode": {
    "name": "ipython",
    "version": 3
   },
   "file_extension": ".py",
   "mimetype": "text/x-python",
   "name": "python",
   "nbconvert_exporter": "python",
   "pygments_lexer": "ipython3",
   "version": "3.12.1"
  }
 },
 "nbformat": 4,
 "nbformat_minor": 5
}
