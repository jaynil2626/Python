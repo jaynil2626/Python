{
 "cells": [
  {
   "cell_type": "code",
   "execution_count": 5,
   "id": "c4b9871a-44e4-45ea-ad3e-2a1cc5f21ff9",
   "metadata": {},
   "outputs": [],
   "source": [
    "import numpy as np"
   ]
  },
  {
   "cell_type": "markdown",
   "id": "ecf90d73-a52c-4cf6-8583-d5e0c4d401cf",
   "metadata": {},
   "source": [
    "9 mark important concepts\n",
    "--> Max\n",
    "--> Min\n",
    "--> Sum"
   ]
  },
  {
   "cell_type": "code",
   "execution_count": 6,
   "id": "0c5e22c8-342a-438c-a691-e541bdb4b192",
   "metadata": {},
   "outputs": [
    {
     "name": "stdout",
     "output_type": "stream",
     "text": [
      "[[83 17 95 54]\n",
      " [65 83 96 26]\n",
      " [ 9 67 36 52]]\n",
      "96\n",
      "[83 83 96 54]\n",
      "[95 96 67]\n",
      "9\n",
      "[ 9 17 36 26]\n",
      "[17 26  9]\n",
      "683\n",
      "[249 270 164]\n",
      "[157 167 227 132]\n",
      "[[ 9 17 36 26]\n",
      " [65 67 95 52]\n",
      " [83 83 96 54]]\n",
      "[[17 54 83 95]\n",
      " [26 65 83 96]\n",
      " [ 9 36 52 67]]\n"
     ]
    }
   ],
   "source": [
    "a = np.random.randint(1,100,size=(3,4))\n",
    "print(a)\n",
    "\n",
    "print(np.max(a))\n",
    "print(np.max(a,axis=0)) # max in colwise\n",
    "print(np.max(a,axis=1)) # max in rowwise\n",
    "\n",
    "print(np.min(a))\n",
    "print(np.min(a,axis=0)) # min in colwise\n",
    "print(np.min(a,axis=1)) # min in rowwise\n",
    "\n",
    "print(np.sum(a))\n",
    "print(np.sum(a,axis=1)) # row wise sum\n",
    "print(np.sum(a,axis=0)) # col wise sum\n",
    "\n",
    "print(np.sort(a,axis=0)) # col wise sort\n",
    "print(np.sort(a,axis=1)) # row wise sort"
   ]
  },
  {
   "cell_type": "code",
   "execution_count": 7,
   "id": "3aa39bc1-a1a2-4ab4-973f-8d129ccaf35a",
   "metadata": {},
   "outputs": [
    {
     "name": "stdout",
     "output_type": "stream",
     "text": [
      "[[15 19 14]\n",
      " [20 22 25]\n",
      " [10  8  9]\n",
      " [ 7 10 12]]\n",
      "[[10  8  9]\n",
      " [ 7 10 12]\n",
      " [15 19 14]\n",
      " [20 22 25]]\n"
     ]
    },
    {
     "data": {
      "text/plain": [
       "array([[10,  8,  9],\n",
       "       [ 7, 10, 12],\n",
       "       [15, 19, 14],\n",
       "       [20, 22, 25]])"
      ]
     },
     "execution_count": 7,
     "metadata": {},
     "output_type": "execute_result"
    }
   ],
   "source": [
    "import numpy as np\n",
    "a=np.array([[15,19,14],[20,22,25],[10,8,9],[7,10,12]])\n",
    "print(a)\n",
    "b=list(a)\n",
    "b.sort(key=lambda x:x[-1])\n",
    "print(np.array(b))\n",
    "np.argsort(a[:,-1])\n",
    "a[np.argsort(a[:,-1])]"
   ]
  },
  {
   "cell_type": "code",
   "execution_count": 10,
   "id": "e77092bd-ea32-4c68-8a0b-6e16be304087",
   "metadata": {},
   "outputs": [
    {
     "name": "stdout",
     "output_type": "stream",
     "text": [
      "[[1 5 7]\n",
      " [2 5 1]\n",
      " [1 8 1]]\n",
      "(array([0, 1, 2, 2]), array([0, 2, 0, 2]))\n",
      "[[100   0   0]\n",
      " [  0   0 100]\n",
      " [100   0 100]]\n",
      "[[30 20 40]\n",
      " [50 60 70]\n",
      " [10 30 50]]\n",
      "[[3 3 2]\n",
      " [2 1 1]\n",
      " [3 3 2]]\n"
     ]
    }
   ],
   "source": [
    "a=np.array([[1,5,7],[2,5,1],[1,8,1]])\n",
    "print(a)\n",
    "print(np.where(a==1))\n",
    "print(np.where(a==1 , 100,0))\n",
    "b=np.array([[30,20,40],[50,60,70],[10,30,50]])\n",
    "print(b)\n",
    "print(np.where(b>50,1,np.where(b>30,2,3)))"
   ]
  },
  {
   "cell_type": "code",
   "execution_count": null,
   "id": "54cea286-fc62-4316-9209-5a77e0c14858",
   "metadata": {},
   "outputs": [],
   "source": []
  },
  {
   "cell_type": "code",
   "execution_count": null,
   "id": "8b507f71-4dbb-4014-87fe-be33c385b2b5",
   "metadata": {},
   "outputs": [],
   "source": []
  }
 ],
 "metadata": {
  "kernelspec": {
   "display_name": "Python 3 (ipykernel)",
   "language": "python",
   "name": "python3"
  },
  "language_info": {
   "codemirror_mode": {
    "name": "ipython",
    "version": 3
   },
   "file_extension": ".py",
   "mimetype": "text/x-python",
   "name": "python",
   "nbconvert_exporter": "python",
   "pygments_lexer": "ipython3",
   "version": "3.12.1"
  }
 },
 "nbformat": 4,
 "nbformat_minor": 5
}
