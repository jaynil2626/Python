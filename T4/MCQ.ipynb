{
 "cells": [
  {
   "cell_type": "code",
   "execution_count": 8,
   "id": "7f9b14d1-b85e-4aef-ade5-d31f932eb445",
   "metadata": {},
   "outputs": [
    {
     "name": "stdout",
     "output_type": "stream",
     "text": [
      "Father's Method\n",
      "Child's Method\n"
     ]
    }
   ],
   "source": [
    "class father:\n",
    "    def __init__(self,name):\n",
    "        self.name=name\n",
    "    def show(self):\n",
    "        print(\"Father's Method\")\n",
    "    \n",
    "class child(father):\n",
    "    def __init__(self,mark):\n",
    "        self.mark=mark\n",
    "    def display(self):\n",
    "        print(\"Child's Method\")\n",
    "        \n",
    "obj=child('vishal10')\n",
    "obj.show()  #father's property can be accessed by child\n",
    "obj.display()\n",
    "\n",
    "# f=father('vishal10')\n",
    "# f.show()  # you can't call method of child by father's object\n",
    "# f.display()"
   ]
  },
  {
   "cell_type": "code",
   "execution_count": 7,
   "id": "aedf5529-5d24-4736-bc26-7b488d25c385",
   "metadata": {},
   "outputs": [
    {
     "name": "stdout",
     "output_type": "stream",
     "text": [
      "Father's Method\n",
      "Child's Method\n",
      "vishal10\n"
     ]
    }
   ],
   "source": [
    "class father:\n",
    "    def __init__(self,name):\n",
    "        self.name=name\n",
    "    def show(self):\n",
    "        print(\"Father's Method\")\n",
    "    \n",
    "class child(father):\n",
    "    def display(self):\n",
    "        print(\"Child's Method\")\n",
    "        \n",
    "c=child('vishal10')\n",
    "c.show()  # if there is no constructor in child it will go to father\n",
    "c.display()\n",
    "print(c.name)"
   ]
  },
  {
   "cell_type": "code",
   "execution_count": 5,
   "id": "44fe8849-337d-43a4-89fd-1a163d0d7e69",
   "metadata": {},
   "outputs": [
    {
     "name": "stdout",
     "output_type": "stream",
     "text": [
      "22\n",
      "3\n",
      "15\n"
     ]
    }
   ],
   "source": [
    "class A:\n",
    "    age=3\n",
    "    def __init__(self):\n",
    "        self.age+=7\n",
    "class B(A):\n",
    "    age=15\n",
    "    def display(self):\n",
    "        print(self.age)\n",
    "        print(A.age)\n",
    "        print(B.age)\n",
    "obj2=B()\n",
    "obj2.display()"
   ]
  },
  {
   "cell_type": "code",
   "execution_count": 11,
   "id": "d1060382-7bdb-439c-98b0-20f36a008e07",
   "metadata": {},
   "outputs": [
    {
     "name": "stdout",
     "output_type": "stream",
     "text": [
      "GC\n",
      "child\n",
      "father\n"
     ]
    }
   ],
   "source": [
    "# --> Multi_Level inheritance\n",
    "\n",
    "class father:\n",
    "    def display(self):\n",
    "        print('father')\n",
    "class child(father):\n",
    "    def show(self):\n",
    "        print('child')\n",
    "class GC(child):\n",
    "    def dis(self):\n",
    "        print('GC')\n",
    "o=GC()\n",
    "o.dis()\n",
    "o.show()\n",
    "o.display()"
   ]
  },
  {
   "cell_type": "code",
   "execution_count": 13,
   "id": "658dfb0a-7c09-4139-b349-bc480d535af1",
   "metadata": {},
   "outputs": [
    {
     "name": "stdout",
     "output_type": "stream",
     "text": [
      "17\n"
     ]
    }
   ],
   "source": [
    "class a:\n",
    "    mark=15\n",
    "    def __init__(self,mark):\n",
    "        self.mark+=mark\n",
    "class b(a):\n",
    "    mark=10\n",
    "    def display(self):\n",
    "        print(self.mark)\n",
    "class c(b):\n",
    "    def display(self):\n",
    "        print(self.mark)\n",
    "\n",
    "c=c(7)\n",
    "c.display()\n"
   ]
  },
  {
   "cell_type": "code",
   "execution_count": 14,
   "id": "e071163f-d170-459e-9db8-53f42254fc30",
   "metadata": {},
   "outputs": [
    {
     "name": "stdout",
     "output_type": "stream",
     "text": [
      "father\n",
      "father\n"
     ]
    }
   ],
   "source": [
    "class father:\n",
    "    def display(self):\n",
    "        print('father')\n",
    "class child1(father):\n",
    "    def show(self):\n",
    "        print('child')\n",
    "class child2(father):\n",
    "    def dis(self):\n",
    "        print('GC')\n",
    "\n",
    "o1=child1()\n",
    "o2=child2()\n",
    "o1.display()\n",
    "o2.display()"
   ]
  },
  {
   "cell_type": "code",
   "execution_count": 19,
   "id": "17f45242-1938-4900-a938-470a6a8e6029",
   "metadata": {},
   "outputs": [
    {
     "name": "stdout",
     "output_type": "stream",
     "text": [
      "welcome\n",
      "hello\n",
      "hii\n"
     ]
    }
   ],
   "source": [
    "class a:\n",
    "    def d(self):\n",
    "        print('hii')\n",
    "class b:\n",
    "    def v(self):\n",
    "        print('hello')\n",
    "class c(b,a):\n",
    "    def k(self):\n",
    "        print('welcome')\n",
    "o=c()\n",
    "o.k()\n",
    "o.v()\n",
    "o.d()"
   ]
  },
  {
   "cell_type": "code",
   "execution_count": 20,
   "id": "8b9f2b20-fa3d-47d3-b855-b46b06f5df59",
   "metadata": {},
   "outputs": [
    {
     "name": "stdout",
     "output_type": "stream",
     "text": [
      "welcome\n",
      "hello\n",
      "\n",
      "welcome\n",
      "hii\n"
     ]
    }
   ],
   "source": [
    "class a:\n",
    "    def v(self):\n",
    "        print('hii')\n",
    "class b:\n",
    "    def v(self):\n",
    "        print('hello')\n",
    "class c(b,a):\n",
    "    def k(self):\n",
    "        print('welcome')\n",
    "o=c()\n",
    "o.k()\n",
    "o.v()\n",
    "\n",
    "print()\n",
    "\n",
    "class a:\n",
    "    def v(self):\n",
    "        print('hii')\n",
    "class b:\n",
    "    def v(self):\n",
    "        print('hello')\n",
    "class c(a,b):  # the position of class is changed(a,b),,,, left side priority will be given\n",
    "    def k(self):\n",
    "        print('welcome')\n",
    "o=c()\n",
    "o.k()\n",
    "o.v()"
   ]
  },
  {
   "cell_type": "code",
   "execution_count": 22,
   "id": "1065d1a7-02eb-4c7d-b846-f090583a6c16",
   "metadata": {},
   "outputs": [
    {
     "name": "stdout",
     "output_type": "stream",
     "text": [
      "3\n",
      "3\n"
     ]
    }
   ],
   "source": [
    "class a:\n",
    "    age=5\n",
    "    def v(self):\n",
    "        print(self.age)\n",
    "class b:\n",
    "    age=7  #2 so aa parent ni age use nai kare\n",
    "    def v(self):\n",
    "        print(self.age)  #3 therefore, aia pan 3 j print thase\n",
    "class c(b,a):\n",
    "    age=3  #1 aia age 3 defined thai gyi che \n",
    "    def k(self):\n",
    "        print(self.age)\n",
    "o=c()\n",
    "o.k()\n",
    "o.v()"
   ]
  },
  {
   "cell_type": "code",
   "execution_count": 25,
   "id": "8098c351-b34e-45c4-b6dd-51744bfd4ea7",
   "metadata": {},
   "outputs": [
    {
     "name": "stdout",
     "output_type": "stream",
     "text": [
      "c\n",
      "b\n",
      "A\n",
      "\n",
      "b\n",
      "A\n",
      "c\n"
     ]
    }
   ],
   "source": [
    "class a:\n",
    "    def __init__(self):\n",
    "        print('A')\n",
    "class b(a):\n",
    "    def __init__(self):\n",
    "        print('b')\n",
    "        super().__init__()\n",
    "class c(b):\n",
    "    def __init__(self):\n",
    "        print('c')\n",
    "        super().__init__()\n",
    "o=c()\n",
    "\n",
    "print()\n",
    "\n",
    "class a:\n",
    "    def __init__(self):\n",
    "        print('A')\n",
    "class b(a):\n",
    "    def __init__(self):\n",
    "        print('b')\n",
    "        super().__init__()\n",
    "class c(b):\n",
    "    def __init__(self):\n",
    "        super().__init__()\n",
    "        print('c')\n",
    "        \n",
    "o=c()"
   ]
  },
  {
   "cell_type": "code",
   "execution_count": 32,
   "id": "78dd1050-1824-4a28-85b9-4727523562a4",
   "metadata": {},
   "outputs": [
    {
     "data": {
      "text/plain": [
       "32"
      ]
     },
     "execution_count": 32,
     "metadata": {},
     "output_type": "execute_result"
    }
   ],
   "source": [
    "class a:\n",
    "    def m(self):\n",
    "        return 20\n",
    "class b(a):\n",
    "    def m(self):\n",
    "        var=super().m()+5\n",
    "        return var\n",
    "class c(b):\n",
    "    def m(self):\n",
    "        return super().m()+7\n",
    "o=c()\n",
    "o.m()"
   ]
  },
  {
   "cell_type": "code",
   "execution_count": 31,
   "id": "663899cf-16db-4805-84ea-89acbed391c8",
   "metadata": {},
   "outputs": [
    {
     "data": {
      "text/plain": [
       "32"
      ]
     },
     "execution_count": 31,
     "metadata": {},
     "output_type": "execute_result"
    }
   ],
   "source": [
    "class a:\n",
    "    def m(self):\n",
    "        return 20\n",
    "class b:\n",
    "    def m(self):\n",
    "        var=super().m()+5\n",
    "        return var\n",
    "class c(b,a):\n",
    "    def m(self):\n",
    "        return super().m()+7\n",
    "o=c()\n",
    "o.m()"
   ]
  },
  {
   "cell_type": "code",
   "execution_count": 34,
   "id": "97fde19f-942f-40e0-9dda-078ad77f4757",
   "metadata": {},
   "outputs": [
    {
     "data": {
      "text/plain": [
       "27"
      ]
     },
     "execution_count": 34,
     "metadata": {},
     "output_type": "execute_result"
    }
   ],
   "source": [
    "class a:\n",
    "    def m(self):\n",
    "        return 20\n",
    "class b:\n",
    "    def m(self):\n",
    "        var=super().m()+5\n",
    "        return var\n",
    "class c(a,b):\n",
    "    def m(self):\n",
    "        return super().m()+7\n",
    "o=c()\n",
    "o.m()"
   ]
  },
  {
   "cell_type": "code",
   "execution_count": 35,
   "id": "9f45d32f-153c-4bcc-9505-8d2ecfc0802d",
   "metadata": {},
   "outputs": [
    {
     "name": "stdout",
     "output_type": "stream",
     "text": [
      "[<class '__main__.e'>, <class '__main__.d'>, <class '__main__.c'>, <class '__main__.b'>, <class '__main__.a'>, <class 'object'>]\n"
     ]
    }
   ],
   "source": [
    "# MOST IMP IN MCQ\n",
    "# ANA VAGAR PAPER AJJ NAI BANE 100% AAVSE\n",
    "\n",
    "class a: pass\n",
    "class b(a): pass\n",
    "class c(b): pass\n",
    "class d(c): pass\n",
    "class e(d): pass\n",
    "print(e.mro())  # method resolution order,, (traversal of cursor through method in code"
   ]
  },
  {
   "cell_type": "code",
   "execution_count": 42,
   "id": "1b188b97-c875-435c-bda8-5a125429a3a2",
   "metadata": {},
   "outputs": [
    {
     "name": "stdout",
     "output_type": "stream",
     "text": [
      "[<class '__main__.p'>, <class '__main__.x'>, <class '__main__.a'>, <class '__main__.y'>, <class '__main__.b'>, <class '__main__.c'>, <class 'object'>]\n"
     ]
    }
   ],
   "source": [
    "class a: pass\n",
    "class b: pass\n",
    "class c: pass\n",
    "class x(a,b): pass\n",
    "class y(b,c): pass\n",
    "class p(x,y,c): pass\n",
    "print(p.mro())"
   ]
  },
  {
   "cell_type": "code",
   "execution_count": 43,
   "id": "14650a5b-94bc-45d0-965f-94f878da70dd",
   "metadata": {},
   "outputs": [
    {
     "ename": "TypeError",
     "evalue": "Cannot create a consistent method resolution\norder (MRO) for bases a, b",
     "output_type": "error",
     "traceback": [
      "\u001b[0;31m---------------------------------------------------------------------------\u001b[0m",
      "\u001b[0;31mTypeError\u001b[0m                                 Traceback (most recent call last)",
      "Cell \u001b[0;32mIn[43], line 4\u001b[0m\n\u001b[1;32m      2\u001b[0m \u001b[38;5;28;01mclass\u001b[39;00m \u001b[38;5;21;01ma\u001b[39;00m: \u001b[38;5;28;01mpass\u001b[39;00m\n\u001b[1;32m      3\u001b[0m \u001b[38;5;28;01mclass\u001b[39;00m \u001b[38;5;21;01mb\u001b[39;00m(a): \u001b[38;5;28;01mpass\u001b[39;00m\n\u001b[0;32m----> 4\u001b[0m \u001b[38;5;28;01mclass\u001b[39;00m \u001b[38;5;21;01mc\u001b[39;00m(a,b): \u001b[38;5;28;01mpass\u001b[39;00m\n\u001b[1;32m      5\u001b[0m \u001b[38;5;28mprint\u001b[39m(c\u001b[38;5;241m.\u001b[39mmro())\n",
      "\u001b[0;31mTypeError\u001b[0m: Cannot create a consistent method resolution\norder (MRO) for bases a, b"
     ]
    }
   ],
   "source": [
    "# ERROR\n",
    "class a: pass\n",
    "class b(a): pass\n",
    "class c(a,b): pass\n",
    "print(c.mro())"
   ]
  },
  {
   "cell_type": "code",
   "execution_count": null,
   "id": "b5c1e64a-6c4a-4d35-92dc-12ac7e2aa4a0",
   "metadata": {},
   "outputs": [],
   "source": []
  }
 ],
 "metadata": {
  "kernelspec": {
   "display_name": "Python 3 (ipykernel)",
   "language": "python",
   "name": "python3"
  },
  "language_info": {
   "codemirror_mode": {
    "name": "ipython",
    "version": 3
   },
   "file_extension": ".py",
   "mimetype": "text/x-python",
   "name": "python",
   "nbconvert_exporter": "python",
   "pygments_lexer": "ipython3",
   "version": "3.12.1"
  }
 },
 "nbformat": 4,
 "nbformat_minor": 5
}
