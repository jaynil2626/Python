{
 "cells": [
  {
   "cell_type": "code",
   "execution_count": 6,
   "id": "8531fed3-00e6-4a9d-8ab1-08955026c861",
   "metadata": {},
   "outputs": [
    {
     "name": "stdout",
     "output_type": "stream",
     "text": [
      "Father's Method\n",
      "Child's Method\n"
     ]
    }
   ],
   "source": [
    "class father:\n",
    "    def __init__(self,name):\n",
    "        self.name=name\n",
    "    def show(self):\n",
    "        print(\"Father's Method\")\n",
    "    \n",
    "class child(father):\n",
    "    def __init__(self,mark):\n",
    "        self.mark=mark\n",
    "    def display(self):\n",
    "        print(\"Child's Method\")\n",
    "        \n",
    "obj=child('vishal10')\n",
    "obj.show()  #father's property can be accessed by child\n",
    "obj.display()\n",
    "\n",
    "# f=father('vishal10')\n",
    "# f.show()  # you can't call method of child by father's object\n",
    "# f.display()"
   ]
  },
  {
   "cell_type": "code",
   "execution_count": 7,
   "id": "aedf5529-5d24-4736-bc26-7b488d25c385",
   "metadata": {},
   "outputs": [
    {
     "name": "stdout",
     "output_type": "stream",
     "text": [
      "Father's Method\n",
      "Child's Method\n",
      "vishal10\n"
     ]
    }
   ],
   "source": [
    "class father:\n",
    "    def __init__(self,name):\n",
    "        self.name=name\n",
    "    def show(self):\n",
    "        print(\"Father's Method\")\n",
    "    \n",
    "class child(father):\n",
    "    def display(self):\n",
    "        print(\"Child's Method\")\n",
    "        \n",
    "c=child('vishal10')\n",
    "c.show()  # if there is no constructor in child it will go to father\n",
    "c.display()\n",
    "print(c.name)"
   ]
  },
  {
   "cell_type": "code",
   "execution_count": 5,
   "id": "44fe8849-337d-43a4-89fd-1a163d0d7e69",
   "metadata": {},
   "outputs": [
    {
     "name": "stdout",
     "output_type": "stream",
     "text": [
      "22\n",
      "3\n",
      "15\n"
     ]
    }
   ],
   "source": [
    "class A:\n",
    "    age=3\n",
    "    def __init__(self):\n",
    "        self.age+=7\n",
    "class B(A):\n",
    "    age=15\n",
    "    def display(self):\n",
    "        print(self.age)\n",
    "        print(A.age)\n",
    "        print(B.age)\n",
    "obj2=B()\n",
    "obj2.display()"
   ]
  },
  {
   "cell_type": "code",
   "execution_count": null,
   "id": "d1060382-7bdb-439c-98b0-20f36a008e07",
   "metadata": {},
   "outputs": [],
   "source": []
  }
 ],
 "metadata": {
  "kernelspec": {
   "display_name": "Python 3 (ipykernel)",
   "language": "python",
   "name": "python3"
  },
  "language_info": {
   "codemirror_mode": {
    "name": "ipython",
    "version": 3
   },
   "file_extension": ".py",
   "mimetype": "text/x-python",
   "name": "python",
   "nbconvert_exporter": "python",
   "pygments_lexer": "ipython3",
   "version": "3.12.1"
  }
 },
 "nbformat": 4,
 "nbformat_minor": 5
}
