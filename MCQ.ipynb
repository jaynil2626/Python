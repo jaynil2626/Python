{
 "cells": [
  {
   "cell_type": "code",
   "execution_count": 8,
   "id": "7f9b14d1-b85e-4aef-ade5-d31f932eb445",
   "metadata": {},
   "outputs": [
    {
     "name": "stdout",
     "output_type": "stream",
     "text": [
      "Father's Method\n",
      "Child's Method\n"
     ]
    }
   ],
   "source": [
    "class father:\n",
    "    def __init__(self,name):\n",
    "        self.name=name\n",
    "    def show(self):\n",
    "        print(\"Father's Method\")\n",
    "    \n",
    "class child(father):\n",
    "    def __init__(self,mark):\n",
    "        self.mark=mark\n",
    "    def display(self):\n",
    "        print(\"Child's Method\")\n",
    "        \n",
    "obj=child('vishal10')\n",
    "obj.show()  #father's property can be accessed by child\n",
    "obj.display()\n",
    "\n",
    "# f=father('vishal10')\n",
    "# f.show()  # you can't call method of child by father's object\n",
    "# f.display()"
   ]
  },
  {
   "cell_type": "code",
   "execution_count": 7,
   "id": "aedf5529-5d24-4736-bc26-7b488d25c385",
   "metadata": {},
   "outputs": [
    {
     "name": "stdout",
     "output_type": "stream",
     "text": [
      "Father's Method\n",
      "Child's Method\n",
      "vishal10\n"
     ]
    }
   ],
   "source": [
    "class father:\n",
    "    def __init__(self,name):\n",
    "        self.name=name\n",
    "    def show(self):\n",
    "        print(\"Father's Method\")\n",
    "    \n",
    "class child(father):\n",
    "    def display(self):\n",
    "        print(\"Child's Method\")\n",
    "        \n",
    "c=child('vishal10')\n",
    "c.show()  # if there is no constructor in child it will go to father\n",
    "c.display()\n",
    "print(c.name)"
   ]
  },
  {
   "cell_type": "code",
   "execution_count": 5,
   "id": "44fe8849-337d-43a4-89fd-1a163d0d7e69",
   "metadata": {},
   "outputs": [
    {
     "name": "stdout",
     "output_type": "stream",
     "text": [
      "22\n",
      "3\n",
      "15\n"
     ]
    }
   ],
   "source": [
    "class A:\n",
    "    age=3\n",
    "    def __init__(self):\n",
    "        self.age+=7\n",
    "class B(A):\n",
    "    age=15\n",
    "    def display(self):\n",
    "        print(self.age)\n",
    "        print(A.age)\n",
    "        print(B.age)\n",
    "obj2=B()\n",
    "obj2.display()"
   ]
  },
  {
   "cell_type": "code",
   "execution_count": 11,
   "id": "d1060382-7bdb-439c-98b0-20f36a008e07",
   "metadata": {},
   "outputs": [
    {
     "name": "stdout",
     "output_type": "stream",
     "text": [
      "GC\n",
      "child\n",
      "father\n"
     ]
    }
   ],
   "source": [
    "# --> Multi_Level inheritance\n",
    "\n",
    "class father:\n",
    "    def display(self):\n",
    "        print('father')\n",
    "class child(father):\n",
    "    def show(self):\n",
    "        print('child')\n",
    "class GC(child):\n",
    "    def dis(self):\n",
    "        print('GC')\n",
    "o=GC()\n",
    "o.dis()\n",
    "o.show()\n",
    "o.display()"
   ]
  },
  {
   "cell_type": "code",
   "execution_count": 13,
   "id": "658dfb0a-7c09-4139-b349-bc480d535af1",
   "metadata": {},
   "outputs": [
    {
     "name": "stdout",
     "output_type": "stream",
     "text": [
      "17\n"
     ]
    }
   ],
   "source": [
    "class a:\n",
    "    mark=15\n",
    "    def __init__(self,mark):\n",
    "        self.mark+=mark\n",
    "class b(a):\n",
    "    mark=10\n",
    "    def display(self):\n",
    "        print(self.mark)\n",
    "class c(b):\n",
    "    def display(self):\n",
    "        print(self.mark)\n",
    "\n",
    "c=c(7)\n",
    "c.display()\n"
   ]
  },
  {
   "cell_type": "code",
   "execution_count": 14,
   "id": "e071163f-d170-459e-9db8-53f42254fc30",
   "metadata": {},
   "outputs": [
    {
     "name": "stdout",
     "output_type": "stream",
     "text": [
      "father\n",
      "father\n"
     ]
    }
   ],
   "source": [
    "class father:\n",
    "    def display(self):\n",
    "        print('father')\n",
    "class child1(father):\n",
    "    def show(self):\n",
    "        print('child')\n",
    "class child2(father):\n",
    "    def dis(self):\n",
    "        print('GC')\n",
    "\n",
    "o1=child1()\n",
    "o2=child2()\n",
    "o1.display()\n",
    "o2.display()"
   ]
  },
  {
   "cell_type": "code",
   "execution_count": 19,
   "id": "17f45242-1938-4900-a938-470a6a8e6029",
   "metadata": {},
   "outputs": [
    {
     "name": "stdout",
     "output_type": "stream",
     "text": [
      "welcome\n",
      "hello\n",
      "hii\n"
     ]
    }
   ],
   "source": [
    "class a:\n",
    "    def d(self):\n",
    "        print('hii')\n",
    "class b:\n",
    "    def v(self):\n",
    "        print('hello')\n",
    "class c(b,a):\n",
    "    def k(self):\n",
    "        print('welcome')\n",
    "o=c()\n",
    "o.k()\n",
    "o.v()\n",
    "o.d()"
   ]
  },
  {
   "cell_type": "code",
   "execution_count": 20,
   "id": "8b9f2b20-fa3d-47d3-b855-b46b06f5df59",
   "metadata": {},
   "outputs": [
    {
     "name": "stdout",
     "output_type": "stream",
     "text": [
      "welcome\n",
      "hello\n",
      "\n",
      "welcome\n",
      "hii\n"
     ]
    }
   ],
   "source": [
    "class a:\n",
    "    def v(self):\n",
    "        print('hii')\n",
    "class b:\n",
    "    def v(self):\n",
    "        print('hello')\n",
    "class c(b,a):\n",
    "    def k(self):\n",
    "        print('welcome')\n",
    "o=c()\n",
    "o.k()\n",
    "o.v()\n",
    "\n",
    "print()\n",
    "\n",
    "class a:\n",
    "    def v(self):\n",
    "        print('hii')\n",
    "class b:\n",
    "    def v(self):\n",
    "        print('hello')\n",
    "class c(a,b):  # the position of class is changed(a,b),,,, left side priority will be given\n",
    "    def k(self):\n",
    "        print('welcome')\n",
    "o=c()\n",
    "o.k()\n",
    "o.v()"
   ]
  },
  {
   "cell_type": "code",
   "execution_count": 21,
   "id": "1065d1a7-02eb-4c7d-b846-f090583a6c16",
   "metadata": {},
   "outputs": [
    {
     "name": "stdout",
     "output_type": "stream",
     "text": [
      "3\n",
      "3\n"
     ]
    }
   ],
   "source": [
    "class a:\n",
    "    age=5\n",
    "    def v(self):\n",
    "        print(self.age)\n",
    "class b:\n",
    "    age=7  #2 so aa parent ni age use nai kare\n",
    "    def v(self):\n",
    "        print(self.age)  #3 therefore, aia pan 3 j print thase\n",
    "class c(b,a):\n",
    "    age=3  #1 aia age 3 defined thai gyi che \n",
    "    def k(self):\n",
    "        print(self.age)\n",
    "o=c()\n",
    "o.k()\n",
    "o.v()"
   ]
  }
 ],
 "metadata": {
  "kernelspec": {
   "display_name": "Python 3 (ipykernel)",
   "language": "python",
   "name": "python3"
  },
  "language_info": {
   "codemirror_mode": {
    "name": "ipython",
    "version": 3
   },
   "file_extension": ".py",
   "mimetype": "text/x-python",
   "name": "python",
   "nbconvert_exporter": "python",
   "pygments_lexer": "ipython3",
   "version": "3.12.1"
  }
 },
 "nbformat": 4,
 "nbformat_minor": 5
}
