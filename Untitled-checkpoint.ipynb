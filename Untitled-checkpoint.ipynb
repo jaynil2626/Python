{
 "cells": [
  {
   "cell_type": "code",
   "execution_count": 20,
   "metadata": {},
   "outputs": [],
   "source": [
    "#ch.8\n",
    "class father:\n",
    "    def __init__(self,name):\n",
    "        self.name=name\n",
    "    def display(self):\n",
    "        print(\"Father's menthod\")\n",
    "class child(father):\n",
    "    def __init__(self,mark):\n",
    "        self.mark=mark\n",
    "    def display(self):\n",
    "        print(\"child's method\")"
   ]
  },
  {
   "cell_type": "code",
   "execution_count": 21,
   "metadata": {},
   "outputs": [
    {
     "name": "stdout",
     "output_type": "stream",
     "text": [
      "child's method\n",
      "child's method\n",
      "Krunal\n"
     ]
    }
   ],
   "source": [
    "obj=child('Krunal')\n",
    "obj.display()\n",
    "obj.display()\n",
    "print(obj.mark)\n",
    "#print(obj.name)"
   ]
  },
  {
   "cell_type": "code",
   "execution_count": 12,
   "metadata": {},
   "outputs": [],
   "source": [
    "class father:\n",
    "    def __init__(self,name):\n",
    "        self.name=name\n",
    "    def show(self):\n",
    "        print(\"Father's menthod\")\n",
    "class child(father):\n",
    "    def __init__(self,mark):\n",
    "        self.mark=mark\n",
    "    def display(self):\n",
    "        print(\"child's method\")"
   ]
  },
  {
   "cell_type": "code",
   "execution_count": 13,
   "metadata": {},
   "outputs": [
    {
     "name": "stdout",
     "output_type": "stream",
     "text": [
      "Father's menthod\n"
     ]
    },
    {
     "ename": "AttributeError",
     "evalue": "'father' object has no attribute 'display'",
     "output_type": "error",
     "traceback": [
      "\u001b[1;31m---------------------------------------------------------------------------\u001b[0m",
      "\u001b[1;31mAttributeError\u001b[0m                            Traceback (most recent call last)",
      "\u001b[1;32m<ipython-input-13-40f7a2078da5>\u001b[0m in \u001b[0;36m<module>\u001b[1;34m\u001b[0m\n\u001b[0;32m      1\u001b[0m \u001b[0mf\u001b[0m\u001b[1;33m=\u001b[0m\u001b[0mfather\u001b[0m\u001b[1;33m(\u001b[0m\u001b[1;34m'Krunal'\u001b[0m\u001b[1;33m)\u001b[0m\u001b[1;33m\u001b[0m\u001b[1;33m\u001b[0m\u001b[0m\n\u001b[0;32m      2\u001b[0m \u001b[0mf\u001b[0m\u001b[1;33m.\u001b[0m\u001b[0mshow\u001b[0m\u001b[1;33m(\u001b[0m\u001b[1;33m)\u001b[0m\u001b[1;33m\u001b[0m\u001b[1;33m\u001b[0m\u001b[0m\n\u001b[1;32m----> 3\u001b[1;33m \u001b[0mf\u001b[0m\u001b[1;33m.\u001b[0m\u001b[0mdisplay\u001b[0m\u001b[1;33m(\u001b[0m\u001b[1;33m)\u001b[0m\u001b[1;33m\u001b[0m\u001b[1;33m\u001b[0m\u001b[0m\n\u001b[0m",
      "\u001b[1;31mAttributeError\u001b[0m: 'father' object has no attribute 'display'"
     ]
    }
   ],
   "source": [
    "f=father('Krunal')\n",
    "f.show()\n",
    "f.display()"
   ]
  },
  {
   "cell_type": "code",
   "execution_count": 14,
   "metadata": {},
   "outputs": [],
   "source": [
    "class father:\n",
    "    def __init__(self,name):\n",
    "        self.name=name\n",
    "    def show(self):\n",
    "        print(\"Father's menthod\")\n",
    "class child(father):\n",
    "    def display(self):\n",
    "        print(\"child's method\")"
   ]
  },
  {
   "cell_type": "code",
   "execution_count": 16,
   "metadata": {},
   "outputs": [
    {
     "name": "stdout",
     "output_type": "stream",
     "text": [
      "Father's menthod\n",
      "child's method\n",
      "Krunal\n"
     ]
    }
   ],
   "source": [
    "c=child('Krunal')\n",
    "c.show()\n",
    "c.display()\n",
    "print(c.name)"
   ]
  },
  {
   "cell_type": "code",
   "execution_count": 22,
   "metadata": {},
   "outputs": [],
   "source": [
    "class a:\n",
    "    age=3\n",
    "    def __init__(self):\n",
    "        self.age+=7\n",
    "        self.__name='Krunal'\n",
    "class b(a):\n",
    "    age=15\n",
    "    def display(self):\n",
    "            print(self.age)\n",
    "            print(a.age)\n",
    "            print(b.age)\n",
    "            print(self.__name)"
   ]
  },
  {
   "cell_type": "code",
   "execution_count": 23,
   "metadata": {},
   "outputs": [
    {
     "name": "stdout",
     "output_type": "stream",
     "text": [
      "22\n",
      "3\n",
      "15\n"
     ]
    },
    {
     "ename": "AttributeError",
     "evalue": "'b' object has no attribute '_b__name'",
     "output_type": "error",
     "traceback": [
      "\u001b[1;31m---------------------------------------------------------------------------\u001b[0m",
      "\u001b[1;31mAttributeError\u001b[0m                            Traceback (most recent call last)",
      "\u001b[1;32m<ipython-input-23-54ddaf650a58>\u001b[0m in \u001b[0;36m<module>\u001b[1;34m\u001b[0m\n\u001b[0;32m      1\u001b[0m \u001b[0mobj2\u001b[0m\u001b[1;33m=\u001b[0m\u001b[0mb\u001b[0m\u001b[1;33m(\u001b[0m\u001b[1;33m)\u001b[0m\u001b[1;33m\u001b[0m\u001b[1;33m\u001b[0m\u001b[0m\n\u001b[1;32m----> 2\u001b[1;33m \u001b[0mobj2\u001b[0m\u001b[1;33m.\u001b[0m\u001b[0mdisplay\u001b[0m\u001b[1;33m(\u001b[0m\u001b[1;33m)\u001b[0m\u001b[1;33m\u001b[0m\u001b[1;33m\u001b[0m\u001b[0m\n\u001b[0m",
      "\u001b[1;32m<ipython-input-22-bad1c4916902>\u001b[0m in \u001b[0;36mdisplay\u001b[1;34m(self)\u001b[0m\n\u001b[0;32m     10\u001b[0m             \u001b[0mprint\u001b[0m\u001b[1;33m(\u001b[0m\u001b[0ma\u001b[0m\u001b[1;33m.\u001b[0m\u001b[0mage\u001b[0m\u001b[1;33m)\u001b[0m\u001b[1;33m\u001b[0m\u001b[1;33m\u001b[0m\u001b[0m\n\u001b[0;32m     11\u001b[0m             \u001b[0mprint\u001b[0m\u001b[1;33m(\u001b[0m\u001b[0mb\u001b[0m\u001b[1;33m.\u001b[0m\u001b[0mage\u001b[0m\u001b[1;33m)\u001b[0m\u001b[1;33m\u001b[0m\u001b[1;33m\u001b[0m\u001b[0m\n\u001b[1;32m---> 12\u001b[1;33m             \u001b[0mprint\u001b[0m\u001b[1;33m(\u001b[0m\u001b[0mself\u001b[0m\u001b[1;33m.\u001b[0m\u001b[0m__name\u001b[0m\u001b[1;33m)\u001b[0m\u001b[1;33m\u001b[0m\u001b[1;33m\u001b[0m\u001b[0m\n\u001b[0m",
      "\u001b[1;31mAttributeError\u001b[0m: 'b' object has no attribute '_b__name'"
     ]
    }
   ],
   "source": [
    "obj2=b()\n",
    "obj2.display()"
   ]
  },
  {
   "cell_type": "code",
   "execution_count": 26,
   "metadata": {},
   "outputs": [],
   "source": [
    "class father:\n",
    "    def display(self):\n",
    "        print('father')\n",
    "class child(father):\n",
    "    def show(self):\n",
    "        print('child')\n",
    "class gc(child):\n",
    "    def dis(self):\n",
    "        print('Grand Child')"
   ]
  },
  {
   "cell_type": "code",
   "execution_count": 27,
   "metadata": {},
   "outputs": [
    {
     "name": "stdout",
     "output_type": "stream",
     "text": [
      "Grand Child\n",
      "child\n",
      "father\n"
     ]
    }
   ],
   "source": [
    "o=gc()\n",
    "o.dis()\n",
    "o.show()\n",
    "o.display()"
   ]
  },
  {
   "cell_type": "code",
   "execution_count": 38,
   "metadata": {},
   "outputs": [],
   "source": [
    "class A:\n",
    "    mark=15\n",
    "    def __init__(self,mark):\n",
    "        self.mark+=mark\n",
    "class B(A):\n",
    "    mark=10\n",
    "    def display(self):\n",
    "        print(self.mark)\n",
    "class C(B):\n",
    "    def display(self):\n",
    "        print(self.mark)"
   ]
  },
  {
   "cell_type": "code",
   "execution_count": 39,
   "metadata": {},
   "outputs": [
    {
     "name": "stdout",
     "output_type": "stream",
     "text": [
      "17\n"
     ]
    }
   ],
   "source": [
    "B=B(7)\n",
    "B.display()"
   ]
  },
  {
   "cell_type": "code",
   "execution_count": 49,
   "metadata": {},
   "outputs": [],
   "source": [
    "class A:\n",
    "    age=5\n",
    "    def v(self):\n",
    "        print(\"Hii\")\n",
    "        print(self.age)\n",
    "class B:\n",
    "    age=7\n",
    "    def v(self):\n",
    "        print(\"Hello\")\n",
    "        print(self.age)\n",
    "class C(B,A):\n",
    "    age=3\n",
    "    def k(self):\n",
    "        print(\"Welcome\")      \n",
    "        print(self.age)"
   ]
  },
  {
   "cell_type": "code",
   "execution_count": 50,
   "metadata": {},
   "outputs": [
    {
     "name": "stdout",
     "output_type": "stream",
     "text": [
      "Welcome\n",
      "3\n",
      "Hello\n",
      "3\n"
     ]
    }
   ],
   "source": [
    "o=C()\n",
    "o.k()\n",
    "o.v()\n",
    "#o.d()"
   ]
  },
  {
   "cell_type": "code",
   "execution_count": 61,
   "metadata": {},
   "outputs": [
    {
     "ename": "TypeError",
     "evalue": "Cannot create a consistent method resolution\norder (MRO) for bases A, B",
     "output_type": "error",
     "traceback": [
      "\u001b[1;31m---------------------------------------------------------------------------\u001b[0m",
      "\u001b[1;31mTypeError\u001b[0m                                 Traceback (most recent call last)",
      "\u001b[1;32m<ipython-input-61-9b153411e2d8>\u001b[0m in \u001b[0;36m<module>\u001b[1;34m\u001b[0m\n\u001b[0;32m      6\u001b[0m         \u001b[0mprint\u001b[0m\u001b[1;33m(\u001b[0m\u001b[1;34m\"B\"\u001b[0m\u001b[1;33m)\u001b[0m\u001b[1;33m\u001b[0m\u001b[1;33m\u001b[0m\u001b[0m\n\u001b[0;32m      7\u001b[0m         \u001b[0msuper\u001b[0m\u001b[1;33m(\u001b[0m\u001b[1;33m)\u001b[0m\u001b[1;33m.\u001b[0m\u001b[0m__init__\u001b[0m\u001b[1;33m(\u001b[0m\u001b[1;33m)\u001b[0m\u001b[1;33m\u001b[0m\u001b[1;33m\u001b[0m\u001b[0m\n\u001b[1;32m----> 8\u001b[1;33m \u001b[1;32mclass\u001b[0m \u001b[0mC\u001b[0m\u001b[1;33m(\u001b[0m\u001b[0mA\u001b[0m\u001b[1;33m,\u001b[0m\u001b[0mB\u001b[0m\u001b[1;33m)\u001b[0m\u001b[1;33m:\u001b[0m\u001b[1;33m\u001b[0m\u001b[1;33m\u001b[0m\u001b[0m\n\u001b[0m\u001b[0;32m      9\u001b[0m     \u001b[1;32mdef\u001b[0m \u001b[0m__init__\u001b[0m\u001b[1;33m(\u001b[0m\u001b[0mself\u001b[0m\u001b[1;33m)\u001b[0m\u001b[1;33m:\u001b[0m\u001b[1;33m\u001b[0m\u001b[1;33m\u001b[0m\u001b[0m\n\u001b[0;32m     10\u001b[0m         \u001b[0msuper\u001b[0m\u001b[1;33m(\u001b[0m\u001b[1;33m)\u001b[0m\u001b[1;33m.\u001b[0m\u001b[0m__init__\u001b[0m\u001b[1;33m(\u001b[0m\u001b[1;33m)\u001b[0m\u001b[1;33m\u001b[0m\u001b[1;33m\u001b[0m\u001b[0m\n",
      "\u001b[1;31mTypeError\u001b[0m: Cannot create a consistent method resolution\norder (MRO) for bases A, B"
     ]
    }
   ],
   "source": [
    "class A:\n",
    "    def __init__(self):\n",
    "        print(\"A\")\n",
    "class B(A):\n",
    "    def __init__(self):\n",
    "        print(\"B\")\n",
    "        super().__init__()\n",
    "class C(A,B):\n",
    "    def __init__(self):\n",
    "        super().__init__()\n",
    "        print(\"C\")"
   ]
  },
  {
   "cell_type": "code",
   "execution_count": 56,
   "metadata": {},
   "outputs": [
    {
     "name": "stdout",
     "output_type": "stream",
     "text": [
      "B\n",
      "A\n",
      "C\n"
     ]
    }
   ],
   "source": [
    "o=C()"
   ]
  },
  {
   "cell_type": "code",
   "execution_count": 62,
   "metadata": {},
   "outputs": [
    {
     "name": "stdout",
     "output_type": "stream",
     "text": [
      "[<class '__main__.E'>, <class '__main__.D'>, <class '__main__.C'>, <class '__main__.B'>, <class '__main__.A'>, <class 'object'>]\n"
     ]
    }
   ],
   "source": [
    "class A:pass\n",
    "class B(A):pass\n",
    "class C(B):pass\n",
    "class D(C):pass\n",
    "class E(D):pass\n",
    "print(E.mro())"
   ]
  },
  {
   "cell_type": "code",
   "execution_count": 4,
   "metadata": {},
   "outputs": [],
   "source": [
    "class father:\n",
    "    def talk(self,x):\n",
    "        print(\"chin tapak dum dum...\")\n",
    "    def talk(self,x,y):\n",
    "        print(\"tabrak....tabrak\")"
   ]
  },
  {
   "cell_type": "code",
   "execution_count": 5,
   "metadata": {},
   "outputs": [
    {
     "name": "stdout",
     "output_type": "stream",
     "text": [
      "tabrak....tabrak\n"
     ]
    }
   ],
   "source": [
    "obj=father()\n",
    "obj.talk(7,3)"
   ]
  },
  {
   "cell_type": "code",
   "execution_count": null,
   "metadata": {},
   "outputs": [],
   "source": [
    "+:__add__(self,other)\n",
    "-:__sub__(self,other)\n",
    "*:__mul__(self,other)\n",
    "/:_truediv__(self,other)\n",
    "//:__floordiv__(self,other)\n",
    "**:__pow__(self,other)\n",
    "%:__mod__(self,other)\n",
    "<:__lt__(self,other)\n",
    ">:__gt__(self,other)\n",
    "<=:__le__(self,other)\n",
    ">=:__ge__(self,other)\n",
    "==:__eq__(self,other)\n",
    "!=:__ne__(self,other)"
   ]
  },
  {
   "cell_type": "code",
   "execution_count": 19,
   "metadata": {},
   "outputs": [],
   "source": [
    "class Demo:\n",
    "    def __init__(self,x):\n",
    "        self.x=x\n",
    "    def __add__(self,other):\n",
    "        return self.x*other.x"
   ]
  },
  {
   "cell_type": "code",
   "execution_count": 23,
   "metadata": {},
   "outputs": [
    {
     "name": "stdout",
     "output_type": "stream",
     "text": [
      "15\n",
      "<__main__.Demo object at 0x000001DA4A524C70>\n",
      "<__main__.Demo object at 0x000001DA4A524B50>\n",
      "<class '__main__.Demo'>\n",
      "<class '__main__.Demo'>\n"
     ]
    }
   ],
   "source": [
    "D1=Demo(3)\n",
    "D2=Demo(5)\n",
    "print(D1+D2)\n",
    "print(D1)\n",
    "print(D2)\n",
    "print(type(D1))\n",
    "print(type(D2))"
   ]
  },
  {
   "cell_type": "code",
   "execution_count": 7,
   "metadata": {},
   "outputs": [],
   "source": [
    "class fraction:\n",
    "    def __init__(self,num,den):\n",
    "        self.num=num\n",
    "        self.den=den\n",
    "    def __str__(self):\n",
    "        return str(self.num)+\"*\"+str(self.den)\n",
    "    def __add__(self,other):\n",
    "        num=self.num*other.den+self.den*other.num\n",
    "        den=self.den*other.den\n",
    "        return str(num)+\"/\"+str(den)\n",
    "    def __sub__(self,other):\n",
    "        num=self.num*other.den-self.den*other.num\n",
    "        den=self.den*other.den\n",
    "        return str(num)+\"/\"+str(den)\n",
    "    def __mul__(self,other):\n",
    "        num=self.num*other.num\n",
    "        den=self.den*other.den\n",
    "        return str(num)+\"/\"+str(den)\n",
    "    def __truediv__(self,other):\n",
    "        num=self.num*other.den\n",
    "        den=self.den*other.num\n",
    "        return str(num)+\"/\"+str(den)"
   ]
  },
  {
   "cell_type": "code",
   "execution_count": 14,
   "metadata": {},
   "outputs": [
    {
     "name": "stdout",
     "output_type": "stream",
     "text": [
      "sum : 46/35\n",
      "subtraction : -4/35\n",
      "multiplication : 15/35\n",
      "division : 21/25\n"
     ]
    }
   ],
   "source": [
    "f1=fraction(3,5)\n",
    "f2=fraction(5,7)\n",
    "print(\"sum :\",f1+f2)\n",
    "print(\"subtraction :\",f1-f2)\n",
    "print(\"multiplication :\",f1*f2)\n",
    "print(\"division :\",f1/f2)"
   ]
  },
  {
   "cell_type": "code",
   "execution_count": 12,
   "metadata": {},
   "outputs": [],
   "source": [
    "from abc import ABC,abstractmethod\n",
    "class father(ABC):\n",
    "    def database(self):\n",
    "        print(\"Database\")\n",
    "    @abstractmethod\n",
    "    def security(self):\n",
    "        pass\n",
    "class child(father):\n",
    "    def display(self):\n",
    "        self.database()\n",
    "    def security(self):\n",
    "        print(\"child safe\")"
   ]
  },
  {
   "cell_type": "code",
   "execution_count": 13,
   "metadata": {},
   "outputs": [
    {
     "name": "stdout",
     "output_type": "stream",
     "text": [
      "child safe\n",
      "Database\n"
     ]
    }
   ],
   "source": [
    "c=child()\n",
    "c.security()\n",
    "c.display()"
   ]
  },
  {
   "cell_type": "code",
   "execution_count": null,
   "metadata": {},
   "outputs": [],
   "source": [
    "#ch.9\n",
    "#1.array create\n",
    "#2.indexing & slicing\n",
    "#3.ndim,shape,size\n",
    "#4.for loop\n",
    "#5.reshape\n",
    "#6.sort\n",
    "#7.array split"
   ]
  },
  {
   "cell_type": "code",
   "execution_count": 21,
   "metadata": {},
   "outputs": [
    {
     "name": "stdout",
     "output_type": "stream",
     "text": [
      "[1 2 3 4]\n"
     ]
    },
    {
     "data": {
      "text/plain": [
       "numpy.ndarray"
      ]
     },
     "execution_count": 21,
     "metadata": {},
     "output_type": "execute_result"
    }
   ],
   "source": [
    "import numpy as np\n",
    "a=np.array((1,2,3,4))\n",
    "print(a)\n",
    "type(a)"
   ]
  },
  {
   "cell_type": "code",
   "execution_count": 24,
   "metadata": {},
   "outputs": [
    {
     "name": "stdout",
     "output_type": "stream",
     "text": [
      "[[1 2]\n",
      " [3 4]\n",
      " [5 6]]\n"
     ]
    },
    {
     "data": {
      "text/plain": [
       "numpy.ndarray"
      ]
     },
     "execution_count": 24,
     "metadata": {},
     "output_type": "execute_result"
    }
   ],
   "source": [
    "a=np.array([[1,2],[3,4],[5,6]])\n",
    "print(a)\n",
    "type(a)"
   ]
  },
  {
   "cell_type": "code",
   "execution_count": 25,
   "metadata": {},
   "outputs": [
    {
     "name": "stdout",
     "output_type": "stream",
     "text": [
      "[[1 2 3]\n",
      " [4 5 6]\n",
      " [7 8 9]]\n"
     ]
    }
   ],
   "source": [
    "b=np.array([[1,2,3],[4,5,6],[7,8,9]])\n",
    "print(b)"
   ]
  },
  {
   "cell_type": "code",
   "execution_count": 36,
   "metadata": {},
   "outputs": [
    {
     "name": "stdout",
     "output_type": "stream",
     "text": [
      "[ 1  2  3  4  5  6  7  8  9 10]\n",
      "[1 3 5 7 9]\n",
      "[10  9  8  7  6  5  4  3  2  1]\n"
     ]
    }
   ],
   "source": [
    "import numpy as np\n",
    "a=np.arange(1,11)\n",
    "print(a)\n",
    "b=np.arange(1,11,2)\n",
    "print(b)\n",
    "c=np.arange(10,0,-1)\n",
    "print(c)"
   ]
  },
  {
   "cell_type": "code",
   "execution_count": 49,
   "metadata": {},
   "outputs": [
    {
     "name": "stdout",
     "output_type": "stream",
     "text": [
      "[[[ 1  2]\n",
      "  [ 3  4]]\n",
      "\n",
      " [[ 5  6]\n",
      "  [ 7  8]]\n",
      "\n",
      " [[ 9 10]\n",
      "  [11 12]]]\n",
      "['1' '2' '3' '4']\n"
     ]
    }
   ],
   "source": [
    "x=np.arange(1,13).reshape(3,2,2)\n",
    "print(x)\n",
    "a=np.array((1,2,3,4),dtype='str')\n",
    "print(a)"
   ]
  },
  {
   "cell_type": "code",
   "execution_count": 50,
   "metadata": {},
   "outputs": [
    {
     "name": "stdout",
     "output_type": "stream",
     "text": [
      "[[1. 1. 1.]\n",
      " [1. 1. 1.]\n",
      " [1. 1. 1.]]\n",
      "[[0. 0. 0. 0.]\n",
      " [0. 0. 0. 0.]\n",
      " [0. 0. 0. 0.]]\n"
     ]
    }
   ],
   "source": [
    "b=np.ones((3,3))\n",
    "c=np.zeros((3,4))\n",
    "print(b)\n",
    "print(c)"
   ]
  },
  {
   "cell_type": "code",
   "execution_count": 51,
   "metadata": {},
   "outputs": [
    {
     "name": "stdout",
     "output_type": "stream",
     "text": [
      "[[1. 0. 0.]\n",
      " [0. 1. 0.]\n",
      " [0. 0. 1.]]\n"
     ]
    }
   ],
   "source": [
    "d=np.identity(3)\n",
    "print(d)"
   ]
  },
  {
   "cell_type": "code",
   "execution_count": 55,
   "metadata": {},
   "outputs": [
    {
     "name": "stdout",
     "output_type": "stream",
     "text": [
      "[[0.23664528 0.39364071 0.17989917]\n",
      " [0.35180558 0.24226468 0.39595626]\n",
      " [0.21693125 0.90849781 0.27297654]]\n",
      "[[24. 39. 18.]\n",
      " [35. 24. 40.]\n",
      " [22. 91. 27.]]\n"
     ]
    }
   ],
   "source": [
    "a=np.random.random((3,3))\n",
    "print(a)\n",
    "a=np.round(a*100)\n",
    "print(a)"
   ]
  },
  {
   "cell_type": "code",
   "execution_count": 56,
   "metadata": {},
   "outputs": [
    {
     "name": "stdout",
     "output_type": "stream",
     "text": [
      "[[369 856 837]\n",
      " [402 772 273]\n",
      " [738 481 225]]\n"
     ]
    }
   ],
   "source": [
    "a=np.random.randint(100,1000,size=(3,3))\n",
    "print(a)"
   ]
  },
  {
   "cell_type": "code",
   "execution_count": 60,
   "metadata": {},
   "outputs": [
    {
     "name": "stdout",
     "output_type": "stream",
     "text": [
      "1\n",
      "12\n",
      "(12,)\n",
      "4\n",
      "int32\n",
      "---------------\n",
      "2\n",
      "12\n",
      "(3, 4)\n",
      "4\n",
      "int32\n",
      "---------------\n",
      "3\n",
      "12\n",
      "(2, 3, 2)\n",
      "4\n",
      "int32\n"
     ]
    }
   ],
   "source": [
    "a=np.arange(1,13)\n",
    "b=np.arange(1,13).reshape(3,4)\n",
    "c=np.arange(1,13).reshape(2,3,2)\n",
    "print(a.ndim)\n",
    "print(a.size)\n",
    "print(a.shape)\n",
    "print(a.itemsize)\n",
    "print(a.dtype)\n",
    "print(\"---------------\")\n",
    "print(b.ndim)\n",
    "print(b.size)\n",
    "print(b.shape)\n",
    "print(b.itemsize)\n",
    "print(b.dtype)\n",
    "print(\"---------------\")\n",
    "print(c.ndim)\n",
    "print(c.size)\n",
    "print(c.shape)\n",
    "print(c.itemsize)\n",
    "print(c.dtype)"
   ]
  },
  {
   "cell_type": "code",
   "execution_count": 8,
   "metadata": {},
   "outputs": [
    {
     "name": "stdout",
     "output_type": "stream",
     "text": [
      "[ 1  2  3  4  5  6  7  8  9 10 11 12]\n",
      "5\n",
      "5\n",
      "[5 6 7 8 9]\n",
      "[12 11 10  9  8  7  6  5  4  3  2  1]\n",
      "[ 2  8 10]\n",
      "[ 1  3  5  7  9 11]\n",
      "[ 2  4  6  8 10 12]\n",
      "[ 6 12]\n",
      "[ 4  6  8 10 12]\n"
     ]
    }
   ],
   "source": [
    "import numpy as np\n",
    "a=np.arange(1,13)\n",
    "print(a)\n",
    "print(a[4])\n",
    "print(a[-8])\n",
    "print(a[4:9])\n",
    "print(a[::-1])\n",
    "print(a[[1,7,9]])\n",
    "print(a[a%2!=0])\n",
    "print(a[a%2==0])\n",
    "print(a[(a%3==0) & (a%6==0)])\n",
    "print(a[(a%2==0)&(a>3)])"
   ]
  },
  {
   "cell_type": "code",
   "execution_count": 96,
   "metadata": {},
   "outputs": [
    {
     "name": "stdout",
     "output_type": "stream",
     "text": [
      "[[ 1  2  3  4]\n",
      " [ 5  6  7  8]\n",
      " [ 9 10 11 12]]\n",
      "7\n",
      "7\n",
      "10\n",
      "[1 5 9]\n",
      "[[12 11 10  9]\n",
      " [ 8  7  6  5]\n",
      " [ 4  3  2  1]]\n",
      "[[ 1  4]\n",
      " [ 9 12]]\n",
      "[[ 1  3  4]\n",
      " [ 9 11 12]]\n"
     ]
    }
   ],
   "source": [
    "b=np.arange(1,13).reshape(3,4)\n",
    "print(b)\n",
    "print(b[1][2])\n",
    "print(b[1,2])\n",
    "print(b[-1,-3])\n",
    "print(b[:,0])\n",
    "print(b[::-1,::-1])\n",
    "print(b[::2,::3])\n",
    "print(b[::2,[0,2,3]])"
   ]
  },
  {
   "cell_type": "code",
   "execution_count": null,
   "metadata": {},
   "outputs": [],
   "source": []
  },
  {
   "cell_type": "code",
   "execution_count": 106,
   "metadata": {},
   "outputs": [
    {
     "name": "stdout",
     "output_type": "stream",
     "text": [
      "[[[ 1  2  3]\n",
      "  [ 4  5  6]]\n",
      "\n",
      " [[ 7  8  9]\n",
      "  [10 11 12]]]\n",
      "8\n",
      "8\n",
      "[[[12 11 10]\n",
      "  [ 9  8  7]]\n",
      "\n",
      " [[ 6  5  4]\n",
      "  [ 3  2  1]]]\n",
      "[[[1 3]]\n",
      "\n",
      " [[7 9]]]\n"
     ]
    }
   ],
   "source": [
    "a=np.arange(1,13).reshape(2,2,3)\n",
    "print(a)\n",
    "print(a[1,0,1])\n",
    "print(a[-1,-2,-2])\n",
    "print(a[::-1,::-1,::-1])\n",
    "print(a[::,::2,::2])"
   ]
  },
  {
   "cell_type": "code",
   "execution_count": 108,
   "metadata": {},
   "outputs": [
    {
     "name": "stdout",
     "output_type": "stream",
     "text": [
      "[[ 1  2  3  4]\n",
      " [ 5  6  7  8]\n",
      " [ 9 10 11 12]]\n",
      "[[ 6  7  8  9]\n",
      " [10 11 12 13]\n",
      " [14 15 16 17]]\n",
      "[[-4 -3 -2 -1]\n",
      " [ 0  1  2  3]\n",
      " [ 4  5  6  7]]\n",
      "[[ 5 10 15 20]\n",
      " [25 30 35 40]\n",
      " [45 50 55 60]]\n",
      "[[0.2 0.4 0.6 0.8]\n",
      " [1.  1.2 1.4 1.6]\n",
      " [1.8 2.  2.2 2.4]]\n",
      "[[1 2 3 4]\n",
      " [0 1 2 3]\n",
      " [4 0 1 2]]\n",
      "[[     1     32    243   1024]\n",
      " [  3125   7776  16807  32768]\n",
      " [ 59049 100000 161051 248832]]\n"
     ]
    }
   ],
   "source": [
    "a=np.arange(1,13).reshape(3,4)\n",
    "print(a)\n",
    "print(a+5)\n",
    "print(a-5)\n",
    "print(a*5)\n",
    "print(a/5)\n",
    "print(a%5)\n",
    "print(a**5)"
   ]
  },
  {
   "cell_type": "code",
   "execution_count": 114,
   "metadata": {},
   "outputs": [
    {
     "name": "stdout",
     "output_type": "stream",
     "text": [
      "[[ 1  2  3  4]\n",
      " [ 5  6  7  8]\n",
      " [ 9 10 11 12]]\n",
      "[[14 16 18 20]\n",
      " [22 24 26 28]\n",
      " [30 32 34 36]]\n",
      "[[-12 -12 -12 -12]\n",
      " [-12 -12 -12 -12]\n",
      " [-12 -12 -12 -12]]\n",
      "[[ 13  28  45  64]\n",
      " [ 85 108 133 160]\n",
      " [189 220 253 288]]\n",
      "[[0.07692308 0.14285714 0.2        0.25      ]\n",
      " [0.29411765 0.33333333 0.36842105 0.4       ]\n",
      " [0.42857143 0.45454545 0.47826087 0.5       ]]\n",
      "[[0 0 0 0]\n",
      " [0 0 0 0]\n",
      " [0 0 0 0]]\n",
      "[[ 1  2  3  4]\n",
      " [ 5  6  7  8]\n",
      " [ 9 10 11 12]]\n",
      "[[          1       16384    14348907           0]\n",
      " [-1564725563  1159987200   442181591           0]\n",
      " [ 1914644777 -1304428544  -122979837           0]]\n"
     ]
    }
   ],
   "source": [
    "a=np.arange(1,13).reshape(3,4)\n",
    "b=np.arange(13,25).reshape(3,4)\n",
    "print(a)\n",
    "print(a+b)\n",
    "print(a-b)\n",
    "print(a*b)\n",
    "print(a/b)\n",
    "print(a//b)\n",
    "print(a%b)\n",
    "print(a**b)"
   ]
  },
  {
   "cell_type": "code",
   "execution_count": 28,
   "metadata": {},
   "outputs": [
    {
     "name": "stdout",
     "output_type": "stream",
     "text": [
      "[[35 20 22 88]\n",
      " [79 85 98 51]\n",
      " [18 58 56 71]]\n"
     ]
    },
    {
     "data": {
      "text/plain": [
       "array([[20, 22, 35, 88],\n",
       "       [51, 79, 85, 98],\n",
       "       [18, 56, 58, 71]])"
      ]
     },
     "execution_count": 28,
     "metadata": {},
     "output_type": "execute_result"
    }
   ],
   "source": [
    "import numpy as np\n",
    "a=np.random.randint(1,100,size=(3,4))\n",
    "print(a)\n",
    "np.max(a)\n",
    "np.max(a,axis=0)\n",
    "np.max(a,axis=1)\n",
    "\n",
    "np.min(a)\n",
    "np.min(a,axis=0)\n",
    "np.min(a,axis=1)\n",
    "\n",
    "np.sum(a)\n",
    "np.sum(a,axis=0)\n",
    "np.sum(a,axis=1)\n",
    "\n",
    "np.sort(a)#line ma chdta kramma gothve.\n",
    "np.sort(a,axis=0)\n",
    "np.sort(a,axis=1)"
   ]
  },
  {
   "cell_type": "code",
   "execution_count": 35,
   "metadata": {},
   "outputs": [
    {
     "name": "stdout",
     "output_type": "stream",
     "text": [
      "[[15 19 14]\n",
      " [20 22 25]\n",
      " [10  8  9]\n",
      " [ 7 10 12]]\n",
      "[[10  8  9]\n",
      " [ 7 10 12]\n",
      " [15 19 14]\n",
      " [20 22 25]]\n"
     ]
    },
    {
     "data": {
      "text/plain": [
       "array([[10,  8,  9],\n",
       "       [ 7, 10, 12],\n",
       "       [15, 19, 14],\n",
       "       [20, 22, 25]])"
      ]
     },
     "execution_count": 35,
     "metadata": {},
     "output_type": "execute_result"
    }
   ],
   "source": [
    "a=np.array([[15,19,14],[20,22,25],[10,8,9],[7,10,12]])\n",
    "print(a)\n",
    "b=list(a)#sort using list\n",
    "b.sort(key=lambda x:x[-1])\n",
    "print(np.array(b))\n",
    "\n",
    "np.argsort(a[:,-1])#sort using numpy\n",
    "a[np.argsort(a[:,-1])]"
   ]
  },
  {
   "cell_type": "code",
   "execution_count": 42,
   "metadata": {},
   "outputs": [
    {
     "name": "stdout",
     "output_type": "stream",
     "text": [
      "[[ 1  2  3  4]\n",
      " [ 5  6  7  8]\n",
      " [ 9 10 11 12]\n",
      " [13 14 15 16]\n",
      " [17 18 19 20]\n",
      " [21 22 23 24]]\n",
      "[[ 1  2  3  4 13 14 15 16]\n",
      " [ 5  6  7  8 17 18 19 20]\n",
      " [ 9 10 11 12 21 22 23 24]]\n",
      "[[ 1  2  3  4 10]\n",
      " [ 5  6  7  8 26]\n",
      " [ 9 10 11 12 42]]\n"
     ]
    }
   ],
   "source": [
    "a=np.arange(1,13).reshape(3,4)\n",
    "b=np.arange(13,25).reshape(3,4)\n",
    "c=np.sum(a,axis=1)\n",
    "d=np.concatenate((a,c.reshape(3,-1)),axis=1)\n",
    "print(np.concatenate((a,b),axis=0))\n",
    "print(np.concatenate((a,b),axis=1))\n",
    "print(d)"
   ]
  },
  {
   "cell_type": "code",
   "execution_count": 53,
   "metadata": {},
   "outputs": [
    {
     "name": "stdout",
     "output_type": "stream",
     "text": [
      "[[1 5 7]\n",
      " [2 5 1]\n",
      " [1 8 1]]\n",
      "[[100   0   0]\n",
      " [  0   0 100]\n",
      " [100   0 100]]\n",
      "[[30 20 40]\n",
      " [50 60 70]\n",
      " [10 30 50]]\n",
      "[[3 3 3]\n",
      " [3 1 1]\n",
      " [3 3 3]]\n"
     ]
    }
   ],
   "source": [
    "a=np.array([[1,5,7],[2,5,1],[1,8,1]])\n",
    "print(a)\n",
    "print(np.where(a==1,100,0))\n",
    "b=np.array([[30,20,40],[50,60,70],[10,30,50]])\n",
    "print(b)\n",
    "print(np.where(b>50,1,np.where(a>30,2,3)))"
   ]
  },
  {
   "cell_type": "code",
   "execution_count": 54,
   "metadata": {},
   "outputs": [],
   "source": [
    "a=np.identity(3)"
   ]
  },
  {
   "cell_type": "code",
   "execution_count": 55,
   "metadata": {},
   "outputs": [
    {
     "data": {
      "text/plain": [
       "array([[1., 0., 0.],\n",
       "       [0., 1., 0.],\n",
       "       [0., 0., 1.]])"
      ]
     },
     "execution_count": 55,
     "metadata": {},
     "output_type": "execute_result"
    }
   ],
   "source": [
    "a"
   ]
  },
  {
   "cell_type": "code",
   "execution_count": 68,
   "metadata": {},
   "outputs": [
    {
     "name": "stdout",
     "output_type": "stream",
     "text": [
      "[array([1, 2, 3]), array([4, 5, 6]), array([7, 8, 9]), array([10, 11, 12])]\n",
      "[array([[1, 2, 3, 4]]), array([[5, 6, 7, 8]]), array([[ 9, 10, 11, 12]])]\n",
      "[array([[1],\n",
      "       [5],\n",
      "       [9]]), array([[ 2],\n",
      "       [ 6],\n",
      "       [10]]), array([[ 3],\n",
      "       [ 7],\n",
      "       [11]]), array([[ 4],\n",
      "       [ 8],\n",
      "       [12]])]\n"
     ]
    }
   ],
   "source": [
    "x=np.arange(1,13)\n",
    "print(np.array_split(x,4))\n",
    "y=np.arange(1,13).reshape(3,4)\n",
    "print(np.array_split(y,3,axis=0))\n",
    "print(np.array_split(y,4,axis=1))"
   ]
  },
  {
   "cell_type": "code",
   "execution_count": 73,
   "metadata": {},
   "outputs": [
    {
     "name": "stdout",
     "output_type": "stream",
     "text": [
      "[[1 2 3]\n",
      " [4 5 6]\n",
      " [7 8 9]]\n",
      "[[10 11 12]\n",
      " [13 14 15]\n",
      " [16 17 18]]\n",
      "[[11 13 15]\n",
      " [17 19 21]\n",
      " [23 25 27]]\n",
      "[[-9 -9 -9]\n",
      " [-9 -9 -9]\n",
      " [-9 -9 -9]]\n",
      "[[ 84  90  96]\n",
      " [201 216 231]\n",
      " [318 342 366]]\n",
      "[[1 4 7]\n",
      " [2 5 8]\n",
      " [3 6 9]]\n",
      "[[10 13 16]\n",
      " [11 14 17]\n",
      " [12 15 18]]\n"
     ]
    }
   ],
   "source": [
    "a=np.arange(1,10).reshape(3,3)\n",
    "b=np.arange(10,19).reshape(3,3)\n",
    "print(a)\n",
    "print(b)\n",
    "print(a+b)\n",
    "print(a-b)\n",
    "c=np.dot(a,b)#Multiplication of a&b\n",
    "d=a.T#Transpose of matrix a\n",
    "e=b.T#Transpose of matrix b\n",
    "print(c)\n",
    "print(d)\n",
    "print(e)"
   ]
  },
  {
   "cell_type": "code",
   "execution_count": 74,
   "metadata": {},
   "outputs": [],
   "source": [
    "def __add__(self,other):\n",
    "    return self.other+other.num"
   ]
  }
 ],
 "metadata": {
  "kernelspec": {
   "display_name": "Python 3",
   "language": "python",
   "name": "python3"
  },
  "language_info": {
   "codemirror_mode": {
    "name": "ipython",
    "version": 3
   },
   "file_extension": ".py",
   "mimetype": "text/x-python",
   "name": "python",
   "nbconvert_exporter": "python",
   "pygments_lexer": "ipython3",
   "version": "3.8.5"
  }
 },
 "nbformat": 4,
 "nbformat_minor": 4
}
